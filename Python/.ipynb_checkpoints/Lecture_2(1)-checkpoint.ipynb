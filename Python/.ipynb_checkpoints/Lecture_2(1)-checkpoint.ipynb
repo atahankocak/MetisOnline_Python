{
 "cells": [
  {
   "cell_type": "markdown",
   "metadata": {},
   "source": [
    "# Beginner Python and Math for Data Science\n",
    "## Lecture 2\n",
    "### Python Built-In Data Types"
   ]
  },
  {
   "cell_type": "markdown",
   "metadata": {},
   "source": [
    "__Purpose:__\n",
    "The purpose of this lecture is to explore the Built-In Types in Python, specifically learning about Lists, Strings, Tuples, Range, Sets and Dictionaries. In each case, we will learn the definition and characteristics of each type, how to create variables as these types in Python, how to access data from these variables and how to manipulate these variables. \n",
    "\n",
    "__At the end of this lecture you will be able to:__\n",
    "1. Understand the similarities and differences between the common Built-In Types in Python and when to use one type over another type\n",
    "2. Create, access, and manipulate lists in Python\n",
    "3. Create, access, manipulate and format strings in Python \n",
    "4. Create and acess tuples in Python \n",
    "5. Create, access, manipulate and use range types in Python \n",
    "6. Create, access, and manipulate sets in Python \n",
    "7. Create, access, and manipulate dictionaries in Python "
   ]
  },
  {
   "cell_type": "markdown",
   "metadata": {},
   "source": [
    "## 2.1 General Overview of Python's Built-In Data Types"
   ]
  },
  {
   "cell_type": "markdown",
   "metadata": {},
   "source": [
    "### 2.1.1 What are Python's Built-In Data Types?"
   ]
  },
  {
   "cell_type": "markdown",
   "metadata": {},
   "source": [
    "__Overview:__\n",
    "- Recall that a __Data Type__ refers to the category in which the object you are creating belongs to \n",
    "- Recall that in Python there are 4 __[Built-In/Standard/Principal Data Types](https://docs.python.org/3/library/stdtypes.html#built-in-types)__ as described below\n",
    "- Each Built-In Data Type refers to a \"bucket\" or \"category\" that encompasses multiple sub-types \n",
    ">1. __[Numeric Types](https://docs.python.org/3/library/stdtypes.html#numeric-types-int-float-complex):__ Such as `int`, `float`, and `complex` \n",
    ">2. __[Sequence Types](https://docs.python.org/3/library/stdtypes.html#sequence-types-list-tuple-range):__ Such as `list`, `str`, `tuple` and `range`\n",
    ">3. __[Set Types](https://docs.python.org/3/library/stdtypes.html#set-types-set-frozenset):__ Such as `set`\n",
    ">4. __[Mapping Types](https://docs.python.org/3/library/stdtypes.html#mapping-types-dict):__ Such as `dict`\n",
    "\n",
    "__Helpful Points:__\n",
    "1. Recall you can use the functions `type()` or `isinstance()` to view the type of any object\n",
    "2. In Lecture 1, Numeric Types were covered in detail so we will begin Lecture 2 with the second Build-In Data Type - __Sequence Types__ (we briefly saw one Sequence Type in Lecture 1 - the Text Sequence Type (`str`), but as promised, we will explore this Data Type in more detail here) "
   ]
  },
  {
   "cell_type": "markdown",
   "metadata": {},
   "source": [
    "### 2.1.2 Comparison of Python's Built-In Data Types"
   ]
  },
  {
   "cell_type": "markdown",
   "metadata": {},
   "source": [
    "__Overview:__\n",
    "- In general, the Data Types in Python can be distinguished by one characteristic -  __[Mutability](https://en.wikipedia.org/wiki/Immutable_object):__ which refers to the ability of a user to change the object AFTER the object has been created \n",
    "- Some Data Types in Python are __Mutable__ (their contents CAN be changed after creation of the variable) and other Data Types in Python are __Immutable__ (their contents CAN NOT be changed after creation of the variable)\n",
    "- We will see the concept of mutability as it plays out for each data type\n",
    "- See below for a classification of Built-In Data Types based on Mutability:\n",
    "> 1. __Mutable Types__: `list`, `set`, `dict`\n",
    "> 2. __Immutable Types__: `int`, `float`, `complex`, `str`, `tuple`, `bool`, and `range`\n",
    "\n",
    "__Helpful Points:__\n",
    "1. In some cases, you will have the choice of which Data Type you choose to use for an object. This decision may have consequences so we will explore later the instances where it is advantageous to use one type over another"
   ]
  },
  {
   "cell_type": "markdown",
   "metadata": {},
   "source": [
    "## 2.2 Sequence Types in Python "
   ]
  },
  {
   "cell_type": "markdown",
   "metadata": {},
   "source": [
    "### 2.2.1 What is a Sequence Type?"
   ]
  },
  {
   "cell_type": "markdown",
   "metadata": {},
   "source": [
    "__Overview:__\n",
    "- __[Sequence Type](https://docs.python.org/3/library/stdtypes.html#sequence-types-list-tuple-range):__ The main Sequence Types in Python refer to `list`, `str`, `tuple` and `range`\n",
    "- Sequence Types in Python have the following characteristics:\n",
    "> - Sequence Types are ordered (each element from left to right is assigned a number in increasing order - this allows us to index (find) elements within the sequence)\n",
    "> - Sequence Types do not have to contain only unique elements\n",
    "> - Sequence Types can be mutable or immutable \n",
    "\n",
    "__Helpful Points:__\n",
    "1. We will explore each Sequence Type individually in the subsequent sections"
   ]
  },
  {
   "cell_type": "markdown",
   "metadata": {},
   "source": [
    "### 2.2.2 Sequence Type Operations"
   ]
  },
  {
   "cell_type": "markdown",
   "metadata": {},
   "source": [
    "__Overview:__\n",
    "- Depending on if the Sequence Type is mutable or immutable, it is subject to a different set of operations:\n",
    ">1. __Mutable Sequence Types:__ Mutable Sequence Types can be operated on using the __[Common Sequence Operations](https://docs.python.org/3/library/stdtypes.html#common-sequence-operations)__  AND the __[Mutable Sequence Type Operations](https://docs.python.org/3/library/stdtypes.html#mutable-sequence-types)__ \n",
    ">2. __Immutable Sequence Types:__ Immutable Sequence Types can be operated on using ONLY the __Common Sequence Operations__"
   ]
  },
  {
   "cell_type": "markdown",
   "metadata": {},
   "source": [
    "- The __Common Sequence Operations__ can be grouped together in the following categories:\n",
    "> 1. Indexing and Slicing  \n",
    "> 2. Membership Test Operations\n",
    "> 3. Concatenation and Repetition\n",
    "> 4. Miscalleneous Actions such as length, max, min, index, count, and sort"
   ]
  },
  {
   "cell_type": "markdown",
   "metadata": {},
   "source": [
    "- The __Mutable Sequence Type Operations__ can be grouped together in the following categories:\n",
    "> 1. Changing elements\n",
    "> 2. Adding elements\n",
    "> 3. Removing elements\n",
    "> 4. Other operations (reverse, copy)"
   ]
  },
  {
   "cell_type": "markdown",
   "metadata": {},
   "source": [
    "__Helpful Points:__\n",
    "1. While exploring each Sequence Type below, we will also practice using the appropriate set of Sequence Type Operations based on the type's mutability "
   ]
  },
  {
   "cell_type": "markdown",
   "metadata": {},
   "source": [
    "### 2.2.3 Overview of Sequence Type 1 - Lists"
   ]
  },
  {
   "cell_type": "markdown",
   "metadata": {},
   "source": [
    "__Overview:__\n",
    "- __[Lists](https://docs.python.org/3/library/stdtypes.html#lists):__ Lists are mutable sequences that are typically used to store collections of __homogenous__ (similar) items, but are capable of storing possibly different types (`bool`, `str`, `int`, etc.)\n",
    "\n",
    "__Helpful Points:__\n",
    "1. Lists are defined by square brackets `[` and `]`\n",
    "2. Each element in a list is separated by a comma"
   ]
  },
  {
   "cell_type": "markdown",
   "metadata": {},
   "source": [
    "### 2.2.4 Creating Lists "
   ]
  },
  {
   "cell_type": "markdown",
   "metadata": {},
   "source": [
    "__Overview:__\n",
    "- There are multiple ways to create a List in Python:\n",
    "> 1. Method 1: Using a pair of square brackets to denote the empty list\n",
    "> 2. Method 2: Using square brackets, separating items with commas\n",
    "> 3.  Method 3: Using the __[Type Constructor](https://en.wikipedia.org/wiki/Type_constructor)__ \n",
    "\n",
    "__Helpful Points:__\n",
    "1. It is also possible to create a list within a list also known as a __[Nested](https://en.wikipedia.org/wiki/Nesting_(computing)__ List\n",
    "\n",
    "__Practice:__ Examples of creating lists in Python"
   ]
  },
  {
   "cell_type": "markdown",
   "metadata": {},
   "source": [
    "### Example 1 (Create List with Method 1)"
   ]
  },
  {
   "cell_type": "code",
   "execution_count": null,
   "metadata": {},
   "outputs": [],
   "source": [
    "empty_list = []\n",
    "print(empty_list)"
   ]
  },
  {
   "cell_type": "code",
   "execution_count": null,
   "metadata": {},
   "outputs": [],
   "source": [
    "type(empty_list)"
   ]
  },
  {
   "cell_type": "code",
   "execution_count": null,
   "metadata": {},
   "outputs": [],
   "source": [
    "isinstance(empty_list, list)"
   ]
  },
  {
   "cell_type": "markdown",
   "metadata": {},
   "source": [
    "### Example 2 (Create List with Method 2)"
   ]
  },
  {
   "cell_type": "code",
   "execution_count": null,
   "metadata": {},
   "outputs": [],
   "source": [
    "non_empty_list = [True, 1.0, \"Gordon\"]\n",
    "print(non_empty_list)"
   ]
  },
  {
   "cell_type": "markdown",
   "metadata": {},
   "source": [
    "Notice that the list can contain objects of different types (here we have `bool`, `float`, and `str`)"
   ]
  },
  {
   "cell_type": "code",
   "execution_count": null,
   "metadata": {},
   "outputs": [],
   "source": [
    "type(non_empty_list)"
   ]
  },
  {
   "cell_type": "code",
   "execution_count": null,
   "metadata": {},
   "outputs": [],
   "source": [
    "isinstance(non_empty_list, list)"
   ]
  },
  {
   "cell_type": "markdown",
   "metadata": {},
   "source": [
    "### Example 3 (Create List with Method 3)"
   ]
  },
  {
   "cell_type": "code",
   "execution_count": null,
   "metadata": {},
   "outputs": [],
   "source": [
    "empty_list_1 = list()\n",
    "print(empty_list_1)"
   ]
  },
  {
   "cell_type": "code",
   "execution_count": null,
   "metadata": {},
   "outputs": [],
   "source": [
    "type(empty_list_1)"
   ]
  },
  {
   "cell_type": "code",
   "execution_count": null,
   "metadata": {},
   "outputs": [],
   "source": [
    "isinstance(empty_list_1, list)"
   ]
  },
  {
   "cell_type": "markdown",
   "metadata": {},
   "source": [
    "### Example 4 (Create Nested List with Method 2)"
   ]
  },
  {
   "cell_type": "code",
   "execution_count": null,
   "metadata": {},
   "outputs": [],
   "source": [
    "list_1 = [\"Gordon\", 1.0]\n",
    "nested_list = [list_1, True]\n",
    "print(nested_list)\n",
    "print(len(nested_list))"
   ]
  },
  {
   "cell_type": "code",
   "execution_count": null,
   "metadata": {},
   "outputs": [],
   "source": [
    "type(nested_list)"
   ]
  },
  {
   "cell_type": "code",
   "execution_count": null,
   "metadata": {},
   "outputs": [],
   "source": [
    "isinstance(nested_list, list)"
   ]
  },
  {
   "cell_type": "markdown",
   "metadata": {},
   "source": [
    "### 2.2.5 Accessing Elements within Lists"
   ]
  },
  {
   "cell_type": "markdown",
   "metadata": {},
   "source": [
    "__Overview:__\n",
    "- Each item within a list (those separated by commas) are referred to as __elements__ and they can easily be accessed (for example, if you want to extract the second element of a list)\n",
    "- The reason why elements are so accessible is because each element is assigned a number beginning with 0 (since Python is __[Zero-Based](https://en.wikipedia.org/wiki/Zero-based_numbering)__)\n",
    "- The process of accessing elements within lists (or any sequence type and some other types) is known as __indexing__\n",
    "- Indexing is a type of __[Common Sequence Operations](https://docs.python.org/3/library/stdtypes.html#common-sequence-operations)__ as mentioned in section 2.2.2 (see the 5th through 7th row in the table)\n",
    "> 1. __Index Method 1__ (one element): Single-Indexing is done by `list_name[i]` where `i` refers to the index or element that you want to access<br>\n",
    "> \\- The type of the output of a one element index is whatever type that element is of (`int`, `str`, etc.)\n",
    "> 2. __Index Method 2__ (multiple elements): Multi-Indexing (__slicing__) is done by `list_name[i:j]` where `i` refers to the index or element that you want to start the slice at and `j` refers to the index that you want to end the slice at, but not including this element __([half-open interval to the right](https://en.wikipedia.org/wiki/Interval_(mathematics))__ otherwise written as `[i,j)`<br>\n",
    "> \\- The type of the output of a multiple element index is a `list`<br>\n",
    "> \\- The general form of a slice is `[start:stop:step]`<br>\n",
    "> \\- The `start`, `stop`, or `step` can be ommitted and Python will infer what to do (see examples)<br>\n",
    "> \\- The `step` defaults to 1 if not specified otherwise<br>\n",
    "> \\- The `step` can be positive or negative. If positive, the slicing moves left to right (forward). If negative, the slicing moves from right to left (backward)\n",
    "\n",
    "__Helpful Points:__\n",
    "1. It is possible to index both regular lists and nested lists, but the way you do it in both cases is a bit different so we will explore each scenario separately\n",
    "2. Lists can only be indexed by `int` and not any other type (i.e. `bool`)\n",
    "3. Python has some peculiar yet helpful characteristics with indexing out-of-range which are in the programmer's favor (see examples)\n",
    "\n",
    "__Practice:__ Examples of accessing elements within lists "
   ]
  },
  {
   "cell_type": "markdown",
   "metadata": {},
   "source": [
    "### Example 1 (Index Method 1 with Non-Nested Lists and Positive Index):"
   ]
  },
  {
   "cell_type": "code",
   "execution_count": null,
   "metadata": {},
   "outputs": [],
   "source": [
    "my_list = [4, 5, \"G\", 1]\n",
    "# my_list_fwd_index = [0, 1, 2, 3]"
   ]
  },
  {
   "cell_type": "code",
   "execution_count": null,
   "metadata": {},
   "outputs": [],
   "source": [
    "# oth element from the left (with and without saving list as a variable)\n",
    "print(my_list[0])\n",
    "print([4, 5, \"G\", 1][0])\n",
    "type(my_list[0])"
   ]
  },
  {
   "cell_type": "code",
   "execution_count": null,
   "metadata": {},
   "outputs": [],
   "source": [
    "# 1st element from the left (with and without saving list as a variable)\n",
    "print(my_list[1])\n",
    "print([4, 5, \"G\", 1][1])\n",
    "type(my_list[1])"
   ]
  },
  {
   "cell_type": "code",
   "execution_count": null,
   "metadata": {},
   "outputs": [],
   "source": [
    "# 2nd element from the left (with and without saving list as a variable)\n",
    "print(my_list[2])\n",
    "print([4, 5, \"G\", 1][2])\n",
    "type(my_list[2])"
   ]
  },
  {
   "cell_type": "code",
   "execution_count": null,
   "metadata": {},
   "outputs": [],
   "source": [
    "# 3rd element from the left (with and without saving list as a variable)\n",
    "print(my_list[3])\n",
    "print([4, 5, \"G\", 1][3])\n",
    "type(my_list[3])"
   ]
  },
  {
   "cell_type": "markdown",
   "metadata": {},
   "source": [
    "Note that if a list is not saved as a variable and then indexed, the first set of square brackets refer to the left and right bound of the list and the next set of the square brackets refer to the \"one-element index.\""
   ]
  },
  {
   "cell_type": "markdown",
   "metadata": {},
   "source": [
    "### Example 2 (Index Method 2 with Non-Nested List, Positive Slice and Forward Direction):"
   ]
  },
  {
   "cell_type": "code",
   "execution_count": null,
   "metadata": {},
   "outputs": [],
   "source": [
    "my_list_1 = [1, 4, 2, 5, 5, 1]"
   ]
  },
  {
   "cell_type": "code",
   "execution_count": null,
   "metadata": {},
   "outputs": [],
   "source": [
    "# slice from 1st element to 4th element (5th element minus one) by step 1 \n",
    "print(my_list_1[1:5])\n",
    "type(my_list_1[1:5])"
   ]
  },
  {
   "cell_type": "code",
   "execution_count": null,
   "metadata": {},
   "outputs": [],
   "source": [
    "# slice from 3rd element to 3rd element (4th element minus one) by step 1 \n",
    "print(my_list_1[3:4])\n",
    "type(my_list_1[3:4])"
   ]
  },
  {
   "cell_type": "code",
   "execution_count": null,
   "metadata": {},
   "outputs": [],
   "source": [
    "# slice from 3rd element to 2nd element (3rd element minus one) by step 1\n",
    "print(my_list_1[3:3])\n",
    "type(my_list_1[3:3])"
   ]
  },
  {
   "cell_type": "markdown",
   "metadata": {},
   "source": [
    "In the two cases above, the `step` argument of the slice was ommitted, therefore the slices were incremented by `1` as the default setting. We can override the default by inputting a number in the `step` argument. "
   ]
  },
  {
   "cell_type": "code",
   "execution_count": null,
   "metadata": {},
   "outputs": [],
   "source": [
    "# slice from 1st element to 4th element (5th element minus one) by step 2 \n",
    "print(my_list_1[1:5:2])"
   ]
  },
  {
   "cell_type": "markdown",
   "metadata": {},
   "source": [
    "### Example 3 (Index Method 2 with Non-Nested List, Positive Slice, Forward Direction and Ommitted Argument(s) ):"
   ]
  },
  {
   "cell_type": "code",
   "execution_count": null,
   "metadata": {},
   "outputs": [],
   "source": [
    "my_list_1 = [1, 4, 2, 5, 5, 1]"
   ]
  },
  {
   "cell_type": "code",
   "execution_count": null,
   "metadata": {},
   "outputs": [],
   "source": [
    "# ommitting stop and step arguments\n",
    "# return 1st element to last element \n",
    "print(my_list_1[1:])"
   ]
  },
  {
   "cell_type": "markdown",
   "metadata": {},
   "source": [
    "If the stop argument is ommitted, all the remaining elements will be returned from the start element "
   ]
  },
  {
   "cell_type": "code",
   "execution_count": null,
   "metadata": {},
   "outputs": [],
   "source": [
    "# ommitting start and step arguments\n",
    "# return 0th element to 2nd element (3rd element minus one)\n",
    "print(my_list_1[:3])"
   ]
  },
  {
   "cell_type": "markdown",
   "metadata": {},
   "source": [
    "If the start argument is ommitted, the slice begins at the 0th element and returns all elements to the stop element minus one"
   ]
  },
  {
   "cell_type": "code",
   "execution_count": null,
   "metadata": {},
   "outputs": [],
   "source": [
    "# ommitting start and stop arguments\n",
    "# return all elements at step 2\n",
    "print(my_list_1[::2])"
   ]
  },
  {
   "cell_type": "markdown",
   "metadata": {},
   "source": [
    "If the start and stop arguments are ommitted, the slice will return all elements based on the step argument"
   ]
  },
  {
   "cell_type": "markdown",
   "metadata": {},
   "source": [
    "### Example 4 (Index Method 1 with Non-Nested List and Negative Index):"
   ]
  },
  {
   "cell_type": "code",
   "execution_count": null,
   "metadata": {},
   "outputs": [],
   "source": [
    "my_list = [4, 5, \"G\", 1]\n",
    "# my_list_bwd_index = [-4, -3, -2, -1]"
   ]
  },
  {
   "cell_type": "code",
   "execution_count": null,
   "metadata": {
    "scrolled": true
   },
   "outputs": [],
   "source": [
    "# 1st element from the right (with and without saving list as a variable)\n",
    "print(my_list[-1])\n",
    "print([4, 5, \"G\", 1][-1])\n",
    "type(my_list[-1])"
   ]
  },
  {
   "cell_type": "code",
   "execution_count": null,
   "metadata": {},
   "outputs": [],
   "source": [
    "# same as above \n",
    "print(my_list[3])"
   ]
  },
  {
   "cell_type": "code",
   "execution_count": null,
   "metadata": {
    "scrolled": true
   },
   "outputs": [],
   "source": [
    "# 2nd element from the right (with and without saving list as a variable)\n",
    "print(my_list[-2])\n",
    "print([4, 5, \"G\", 1][-2])\n",
    "type(my_list[-2])"
   ]
  },
  {
   "cell_type": "code",
   "execution_count": null,
   "metadata": {},
   "outputs": [],
   "source": [
    "# same as above \n",
    "print(my_list[2])"
   ]
  },
  {
   "cell_type": "code",
   "execution_count": null,
   "metadata": {},
   "outputs": [],
   "source": [
    "# 3rd element from the right (with and without saving list as a variable)\n",
    "print(my_list[-3])\n",
    "print([4, 5, \"G\", 1][-3])\n",
    "type(my_list[-3])"
   ]
  },
  {
   "cell_type": "code",
   "execution_count": null,
   "metadata": {},
   "outputs": [],
   "source": [
    "# same as above \n",
    "print(my_list[1])"
   ]
  },
  {
   "cell_type": "code",
   "execution_count": null,
   "metadata": {},
   "outputs": [],
   "source": [
    "# 4th element from the right (with and without saving list as a variable)\n",
    "print(my_list[-4])\n",
    "print([4, 5, \"G\", 1][-4])\n",
    "type(my_list[-4])"
   ]
  },
  {
   "cell_type": "code",
   "execution_count": null,
   "metadata": {},
   "outputs": [],
   "source": [
    "# same as above\n",
    "print(my_list[0])"
   ]
  },
  {
   "cell_type": "markdown",
   "metadata": {},
   "source": [
    "### Example 5 (Index Method 2 with Non-Nested List, Negative Slice and Backward Direction):"
   ]
  },
  {
   "cell_type": "code",
   "execution_count": null,
   "metadata": {},
   "outputs": [],
   "source": [
    "my_list_1 = [1, 4, 2, 5, 5, 1]"
   ]
  },
  {
   "cell_type": "code",
   "execution_count": null,
   "metadata": {},
   "outputs": [],
   "source": [
    "# slice from 4th element to 2nd element (1st element plus one) by step -1 \n",
    "print(my_list_1[4:1:-1])\n",
    "type(my_list_1[4:1:-1])"
   ]
  },
  {
   "cell_type": "markdown",
   "metadata": {},
   "source": [
    "Notice that when the `step` argument is a negative number, Python allows the `start` argument to be larger than the `stop` argument since it understands that we are moving backwards (or from right to left) through the list. Not only does Python allow this behavior, it actually requires it. In the event the `step` argument is negative, the `start` argument must be greater than the `stop` argument or Python will return an empty list. \n",
    "\n",
    "We can re-write the above example, but ommitting the step argument (so it defaults to 1) and using start and stop arguments as their negative index numbers and compare the results. "
   ]
  },
  {
   "cell_type": "code",
   "execution_count": null,
   "metadata": {},
   "outputs": [],
   "source": [
    "# slice from 4th element to the right to the 2nd element to the right (1st element to the right plus one) by step 1\n",
    "print(my_list_1[-4:-1])\n",
    "type(my_list_1[-4:-1])"
   ]
  },
  {
   "cell_type": "markdown",
   "metadata": {},
   "source": [
    "Compare the order of this list to the one above. This list here is printed forward despite having negative slicing index and the list above is printed backward despite having positive slicing index. The reason for this \"tricky\" behavior lies in the sign of the `step` argument. A positive `step` argument will ALWAYS print your list in the forward direction, whereas a negative `step` argument will ALWAYS print your list in the backward direction. Don't get confused by the sign of the indices - these do NOT dictate the sign in which the list is printed, but only dictate which side of the list you begin counting at (i.e. left or right side). "
   ]
  },
  {
   "cell_type": "code",
   "execution_count": null,
   "metadata": {},
   "outputs": [],
   "source": [
    "# slice from 4th element to 4th element (3rd element plus one) by step -1 \n",
    "print(my_list_1[4:3:-1])\n",
    "type(my_list_1[4:3:-1])"
   ]
  },
  {
   "cell_type": "markdown",
   "metadata": {},
   "source": [
    "We can also change the decrement interval by changing the value in the `step` argument. "
   ]
  },
  {
   "cell_type": "code",
   "execution_count": null,
   "metadata": {},
   "outputs": [],
   "source": [
    "# slice from 5th element to 3rd element (2nd element plus one) by step -2 \n",
    "print(my_list_1[5:2:-2])"
   ]
  },
  {
   "cell_type": "markdown",
   "metadata": {},
   "source": [
    "### Example 6 (Index Method 2 with Non-Nested List, Negative Slice, Backward Step and Ommitted Argument(s) ):"
   ]
  },
  {
   "cell_type": "code",
   "execution_count": null,
   "metadata": {},
   "outputs": [],
   "source": [
    "my_list_1 = [1, 4, 2, 5, 5, 1]"
   ]
  },
  {
   "cell_type": "code",
   "execution_count": null,
   "metadata": {},
   "outputs": [],
   "source": [
    "# ommitting stop and step arguments\n",
    "# return the 2nd element from the right to the end of the list \n",
    "print(my_list_1[-2:])"
   ]
  },
  {
   "cell_type": "markdown",
   "metadata": {},
   "source": [
    "Positive step means the list will be printed in a forward direction, negative index means we start counting from the right side moving left. "
   ]
  },
  {
   "cell_type": "code",
   "execution_count": null,
   "metadata": {},
   "outputs": [],
   "source": [
    "# ommitting start and step arguments\n",
    "# returns the 0th element to the fourth element from the right \n",
    "print(my_list_1[:-3])"
   ]
  },
  {
   "cell_type": "markdown",
   "metadata": {},
   "source": [
    "Positive step means the list will be printed in a forward direction, negative index means we start counting from the right side moving left. "
   ]
  },
  {
   "cell_type": "code",
   "execution_count": null,
   "metadata": {},
   "outputs": [],
   "source": [
    "# ommitting start and stop arguments\n",
    "# return all elements at step -2\n",
    "print(my_list_1[::-2])"
   ]
  },
  {
   "cell_type": "markdown",
   "metadata": {},
   "source": [
    "Negative step means the list will be printed in a backward direction, positive indices means we start counting from the left side moving right. "
   ]
  },
  {
   "cell_type": "code",
   "execution_count": null,
   "metadata": {},
   "outputs": [],
   "source": [
    "# same as above\n",
    "print(my_list_1[5:0:-2])"
   ]
  },
  {
   "cell_type": "code",
   "execution_count": null,
   "metadata": {},
   "outputs": [],
   "source": [
    "# same as above\n",
    "print(my_list_1[-1:-6:-2])"
   ]
  },
  {
   "cell_type": "markdown",
   "metadata": {},
   "source": [
    "### Example 7 (Index Method 1 with Nested List):"
   ]
  },
  {
   "cell_type": "code",
   "execution_count": null,
   "metadata": {},
   "outputs": [],
   "source": [
    "list_1 = [\"Gordon\", 1.0]\n",
    "nested_list = [list_1, True]\n",
    "print(nested_list)"
   ]
  },
  {
   "cell_type": "code",
   "execution_count": null,
   "metadata": {},
   "outputs": [],
   "source": [
    "# access 0th element of the outer list\n",
    "nested_list[0]"
   ]
  },
  {
   "cell_type": "code",
   "execution_count": null,
   "metadata": {},
   "outputs": [],
   "source": [
    "# access 1st element of the inner list \n",
    "nested_list[0][1]"
   ]
  },
  {
   "cell_type": "markdown",
   "metadata": {},
   "source": [
    "### Example 8 (Index Method 2 with Nested List):"
   ]
  },
  {
   "cell_type": "code",
   "execution_count": null,
   "metadata": {},
   "outputs": [],
   "source": [
    "# slice from 0th element to 0th element (1st element minus one) with step 1\n",
    "nested_list[0:1]"
   ]
  },
  {
   "cell_type": "markdown",
   "metadata": {},
   "source": [
    "Recall that when we use Method 2 (slicing), the output is a `list`. Now in this case since the element we selected is also a list, our result is a list within a list. "
   ]
  },
  {
   "cell_type": "markdown",
   "metadata": {},
   "source": [
    "### Example 9 (Indexing Out-of-Range - Error):"
   ]
  },
  {
   "cell_type": "code",
   "execution_count": null,
   "metadata": {},
   "outputs": [],
   "source": [
    "my_list_1 = [1, 4, 2, 5, 5, 1]"
   ]
  },
  {
   "cell_type": "code",
   "execution_count": null,
   "metadata": {},
   "outputs": [],
   "source": [
    "# will yield an error\n",
    "my_list_1[10]"
   ]
  },
  {
   "cell_type": "markdown",
   "metadata": {},
   "source": [
    "An `IndexError` is raised here since the maximum element of the variable `my_list_1` is 5 and we asked for the 10th element here. "
   ]
  },
  {
   "cell_type": "markdown",
   "metadata": {},
   "source": [
    "### Example 10 (Indexing Out-of-Range - No Error):"
   ]
  },
  {
   "cell_type": "code",
   "execution_count": null,
   "metadata": {},
   "outputs": [],
   "source": [
    "# will not yield an error\n",
    "my_list_1[:10]"
   ]
  },
  {
   "cell_type": "markdown",
   "metadata": {},
   "source": [
    "We can see that although the 10th element in the variable `my_list_1` does not exist, Python's interpreter does not raise an error. The reason being is that the interpreter understands that the `stop` argument in the slice is out-of-index and should be interpreted instead as the end of the list. "
   ]
  },
  {
   "cell_type": "code",
   "execution_count": null,
   "metadata": {},
   "outputs": [],
   "source": [
    "# will not yield an error\n",
    "my_list_1[10:]"
   ]
  },
  {
   "cell_type": "markdown",
   "metadata": {},
   "source": [
    "We can see that although the 10th element in the variable `my_list_1` does not exist, Python's interpreter does not raise an error. The reason being is that the interpreter understands that the `start` argument in the slice is out-of-index and should be interpreted instead as an empty list. "
   ]
  },
  {
   "cell_type": "markdown",
   "metadata": {},
   "source": [
    "### Problem 1:\n",
    "\n",
    "Create a list and enter in the items `\"c\"`, `\"a\"`, `\"b\"`, `1`, `3`, `2` then reverse this list so it looks like `2`, `3`, ... Print your result.  \n",
    "\n",
    "- Use list slicing in your answer \n",
    "- Do not use any embedded functions in Python to reverse the list "
   ]
  },
  {
   "cell_type": "code",
   "execution_count": null,
   "metadata": {},
   "outputs": [],
   "source": [
    "# Write your code here\n",
    "eliza_list=  ---- > [\"c\",\"a\",\"b\",1,3,2,5] # [0, 1, 2, 3, ....., n] list has size n \n",
    "print(eliza_list[::1])\n",
    "\n",
    "\n"
   ]
  },
  {
   "cell_type": "markdown",
   "metadata": {},
   "source": [
    "### Problem 2:\n",
    "\n",
    "Create a list and enter in the items `\"c\"`, `\"a\"`, `\"b\"`, `1`, `3`, `2` then use slicing to pull out the subset `[\"b\", 3]` ... Print your result.\n",
    "\n",
    "- Use list slicing in your answer "
   ]
  },
  {
   "cell_type": "code",
   "execution_count": null,
   "metadata": {},
   "outputs": [],
   "source": [
    "# Write your code here\n",
    "list2 = [\"c\",\"a\",\"b\",1,3,2,3]\n",
    "print(list2[2::2])\n",
    "\n",
    "\n"
   ]
  },
  {
   "cell_type": "markdown",
   "metadata": {},
   "source": [
    "### 2.2.6 More List Operations"
   ]
  },
  {
   "cell_type": "markdown",
   "metadata": {},
   "source": [
    "__Overview:__\n",
    "- Recall in section 2.2.2 the types of operations available for Sequence Types and specifically Mutable Sequence Types\n",
    "- Since the `list` type is mutable, we can perform both the Common Sequence Operations AND the Mutable Sequence Type Operations \n",
    "\n",
    "__Helpful Points:__\n",
    "1. Below, Part 1 will cover the Common Sequence Type Operations (membership test operations, list concatenation and repetition, and misc. actions)\n",
    "2. Below, Part 2 will cover the Mutable Type Sequence Operations (changing elements, adding elements, and removing elements)\n",
    "\n",
    "__Practice:__ Examples of List Operations in Python "
   ]
  },
  {
   "cell_type": "markdown",
   "metadata": {},
   "source": [
    "### Part 1: Common Sequence Type Operations "
   ]
  },
  {
   "cell_type": "markdown",
   "metadata": {},
   "source": [
    "### Example 1.1 (Membership Test Operations - `in` for lists):"
   ]
  },
  {
   "cell_type": "markdown",
   "metadata": {},
   "source": [
    "- Recall Section 1.10.3 in Lecture 1 - Membership Test Operations for `str` types\n",
    "- Here, Membership Test Operations are used in the same fashion and the meaning of the operators `in` and `not in` are the same as described in Lecture 1"
   ]
  },
  {
   "cell_type": "code",
   "execution_count": null,
   "metadata": {},
   "outputs": [],
   "source": [
    "my_list = [\"G\", \"R\", 1, True]"
   ]
  },
  {
   "cell_type": "code",
   "execution_count": null,
   "metadata": {},
   "outputs": [],
   "source": [
    "my_string = \"Gordon\""
   ]
  },
  {
   "cell_type": "code",
   "execution_count": null,
   "metadata": {},
   "outputs": [],
   "source": [
    "\"\" in my_string"
   ]
  },
  {
   "cell_type": "code",
   "execution_count": null,
   "metadata": {},
   "outputs": [],
   "source": [
    "1 in my_list"
   ]
  },
  {
   "cell_type": "code",
   "execution_count": null,
   "metadata": {},
   "outputs": [],
   "source": [
    "[] in my_list"
   ]
  },
  {
   "cell_type": "code",
   "execution_count": null,
   "metadata": {},
   "outputs": [],
   "source": [
    "\"\" in my_list"
   ]
  },
  {
   "cell_type": "markdown",
   "metadata": {},
   "source": [
    "We can see that the same behavior that was present for strings (empty strings are always considered to be a member of a string), is not also true with lists. An empty list is not always a member of a list and an empty string is not always a member of a list. "
   ]
  },
  {
   "cell_type": "code",
   "execution_count": null,
   "metadata": {},
   "outputs": [],
   "source": [
    "my_list_1 = [[], \"\", my_list]\n",
    "print(my_list_1)"
   ]
  },
  {
   "cell_type": "code",
   "execution_count": null,
   "metadata": {},
   "outputs": [],
   "source": [
    "[] in my_list_1"
   ]
  },
  {
   "cell_type": "code",
   "execution_count": null,
   "metadata": {},
   "outputs": [],
   "source": [
    "\"\" in my_list_1"
   ]
  },
  {
   "cell_type": "markdown",
   "metadata": {},
   "source": [
    "After entering an empty list and empty string as elements into the list, both membership tests are now `True`"
   ]
  },
  {
   "cell_type": "code",
   "execution_count": null,
   "metadata": {},
   "outputs": [],
   "source": [
    "\"R\" in my_list_1"
   ]
  },
  {
   "cell_type": "code",
   "execution_count": null,
   "metadata": {},
   "outputs": [],
   "source": [
    "\"R\" in my_list_1[2]"
   ]
  },
  {
   "cell_type": "markdown",
   "metadata": {},
   "source": [
    "In the case of nested lists, unless you specify the element to which the nested list is in, the membership test will not output a `True` result when checking if a value is a member of the list. "
   ]
  },
  {
   "cell_type": "markdown",
   "metadata": {},
   "source": [
    "### Example 1.2 (Membership Test Operations - `not in` for lists):"
   ]
  },
  {
   "cell_type": "code",
   "execution_count": null,
   "metadata": {},
   "outputs": [],
   "source": [
    "\"a\" not in my_list # is the \"a\" not a member of my list "
   ]
  },
  {
   "cell_type": "code",
   "execution_count": null,
   "metadata": {},
   "outputs": [],
   "source": [
    "\"R\" not in my_list"
   ]
  },
  {
   "cell_type": "markdown",
   "metadata": {},
   "source": [
    "### Example 1.3 (Concatenation of Lists):"
   ]
  },
  {
   "cell_type": "markdown",
   "metadata": {},
   "source": [
    "- Note that when using the `+` sign in Python with Sequence Types, it does not refer to vectorized addition\n",
    "- In other words, `list_1` + `list_2` is NOT equal to a new list which is the addition of each term of list_1 and list_2\n",
    "- Instead, the $+$ sign __[concatenates](https://en.wikipedia.org/wiki/Concatenation)__ list_2 to list_1 to make a new list that includes both lists \n",
    "- See below for how the $+$ operator works on Python lists"
   ]
  },
  {
   "cell_type": "code",
   "execution_count": null,
   "metadata": {},
   "outputs": [],
   "source": [
    "[1,2,3] * 3 = [3, 6, 9] # vectorized addition (vectorized operations) DOES NOT HAPPEN IN PYTHON "
   ]
  },
  {
   "cell_type": "code",
   "execution_count": null,
   "metadata": {},
   "outputs": [],
   "source": [
    "list_1 = [\"Gordon\", 1, \"a\"] # 3 elements \n",
    "list_2 = [\"Roberto\", 2, \"b\"] # 6 elements \n",
    "list_3 = list_1 + list_2 # 6 elements\n",
    "print(list_3)"
   ]
  },
  {
   "cell_type": "code",
   "execution_count": null,
   "metadata": {},
   "outputs": [],
   "source": [
    "list_1 = [\"Gordon\", 1, \"a\"]\n",
    "list_2 = [\"Roberto\", 2]\n",
    "list_3 = list_1 + list_2\n",
    "print(list_3)"
   ]
  },
  {
   "cell_type": "markdown",
   "metadata": {},
   "source": [
    "We can see that the lists do not need to be of equal length to be added."
   ]
  },
  {
   "cell_type": "markdown",
   "metadata": {},
   "source": [
    "### Example 1.4 (Repetition of Lists):"
   ]
  },
  {
   "cell_type": "markdown",
   "metadata": {},
   "source": [
    "- Note that when using the `*` sign in Python with Sequence Types, it does not refer to vectorized multiplication\n",
    "- In other words, list_1 `*` n is NOT equal to a new list which is the multiplication of each term of list_1 by n\n",
    "- Instead, the `*` sign repeats list_1 n times to make a new list\n",
    "- See below for how the `*` operator works on Python lists"
   ]
  },
  {
   "cell_type": "code",
   "execution_count": null,
   "metadata": {},
   "outputs": [],
   "source": [
    "list_1 = [\"Gordon\", 1, \"a\"]\n",
    "print(list_1 * 3)"
   ]
  },
  {
   "cell_type": "code",
   "execution_count": null,
   "metadata": {},
   "outputs": [],
   "source": [
    "print(list_1 + list_1 + list_1)"
   ]
  },
  {
   "cell_type": "markdown",
   "metadata": {},
   "source": [
    "### Example 1.5 (Misc. Actions on Lists):"
   ]
  },
  {
   "cell_type": "markdown",
   "metadata": {},
   "source": [
    "- Within the Common Sequence Types, there exist a set of useful functions that can be used as operations on lists (len, min, max, index, count, and sort))"
   ]
  },
  {
   "cell_type": "markdown",
   "metadata": {},
   "source": [
    "### Example 1.5.1 (Simple Actions - `len`, `min`, `max`, `index`, `count`)"
   ]
  },
  {
   "cell_type": "code",
   "execution_count": null,
   "metadata": {},
   "outputs": [],
   "source": [
    "my_list = [1, 36.3, 5, 4, 36.3]"
   ]
  },
  {
   "cell_type": "code",
   "execution_count": null,
   "metadata": {},
   "outputs": [],
   "source": [
    "# written by X \n",
    "def len():\n",
    "    # finds the length of input list \n",
    "    return "
   ]
  },
  {
   "cell_type": "code",
   "execution_count": null,
   "metadata": {},
   "outputs": [],
   "source": [
    "# find the length of the list (number of elements in the list)\n",
    "len(my_list)"
   ]
  },
  {
   "cell_type": "code",
   "execution_count": null,
   "metadata": {},
   "outputs": [],
   "source": [
    "# find the minimum value of the list (smallest element in the list)\n",
    "min(my_list)"
   ]
  },
  {
   "cell_type": "code",
   "execution_count": null,
   "metadata": {},
   "outputs": [],
   "source": [
    "# find the maximum value of the list (largest element in the list)\n",
    "max(my_list)"
   ]
  },
  {
   "cell_type": "code",
   "execution_count": null,
   "metadata": {},
   "outputs": [],
   "source": [
    "# find the index of the first occurrence of 4 in my_list\n",
    "my_list.index(36.3)"
   ]
  },
  {
   "cell_type": "code",
   "execution_count": null,
   "metadata": {},
   "outputs": [],
   "source": [
    "# find the total number of occurrences of 36.3 in my_list\n",
    "print(my_list.count(36.3))"
   ]
  },
  {
   "cell_type": "markdown",
   "metadata": {},
   "source": [
    "### Example 1.5.2 (Advanced Actions - `sort`)"
   ]
  },
  {
   "cell_type": "markdown",
   "metadata": {},
   "source": [
    "__Overview:__\n",
    "- Since lists are mutable, sorting lists in Python can be done 2 different ways:\n",
    "> 1. __Method 1:__ Using the `sorted()` function. This method does NOT modify the original list, but just returns a copy of the original list. \n",
    "> 2. __Method 2:__ Using the `list.sort()` method. This method DOES modify the original list and returns the original list sorted. \n",
    "\n",
    "__Helpful Points:__\n",
    "1. Whether a function modified the original object or simply returns a copy of the object, but doesn't change the original object deals with a concept called the __[In-Place Algorithm](https://en.wikipedia.org/wiki/In-place_algorithm).__\n",
    "2. __In-Place:__ In-place means that the original object is modified (`list.sort()` method)\n",
    "3. __Not In-Place:__ Not In-place means that the original object is NOT modified (`sorted()` function)\n",
    "4. To determine if you want an in-place or \"not\" in-place method, ask yourself if you need the original list. If you don't need the original list, you will want to use `list.sort()`, if you do need the original list, you will want to use `sorted()`\n",
    "5. See [here](https://docs.python.org/3/howto/sorting.html) for more information on sorting in Python \n",
    "\n",
    "__Practice:__ Examples of sorting in Python "
   ]
  },
  {
   "cell_type": "code",
   "execution_count": null,
   "metadata": {},
   "outputs": [],
   "source": [
    "# sort the list using method 1 (retaining the original variable, simply create a copy )\n",
    "print(sorted(my_list))\n",
    "print(my_list)"
   ]
  },
  {
   "cell_type": "markdown",
   "metadata": {},
   "source": [
    "We can see that the `sorted()` function simply returned a copy of the original list, but when we print the original list, it has not changed. This is an example of not in-place. "
   ]
  },
  {
   "cell_type": "code",
   "execution_count": null,
   "metadata": {},
   "outputs": [],
   "source": [
    "# sort the list using method 2 (overwriting the original variable)\n",
    "print(my_list.sort())\n",
    "print(my_list)"
   ]
  },
  {
   "cell_type": "markdown",
   "metadata": {},
   "source": [
    "We can see that the `list.sort()` method first returns `None` to avoid confusion since no copy was made and then when we print the original list, we see it has changed. This is an example of in-place. "
   ]
  },
  {
   "cell_type": "markdown",
   "metadata": {},
   "source": [
    "### Part 2: Mutable Sequence Type Operations"
   ]
  },
  {
   "cell_type": "markdown",
   "metadata": {},
   "source": [
    "### Example 2.1 (Changing Elements of Lists):"
   ]
  },
  {
   "cell_type": "markdown",
   "metadata": {},
   "source": [
    "- Elements within a list can be changed using both index and slices"
   ]
  },
  {
   "cell_type": "markdown",
   "metadata": {},
   "source": [
    "### Example 2.1.1 (Changing Elements of Lists with Indexing):"
   ]
  },
  {
   "cell_type": "code",
   "execution_count": null,
   "metadata": {},
   "outputs": [],
   "source": [
    "my_list = [1, 4, 36.3, \"G\", True]"
   ]
  },
  {
   "cell_type": "code",
   "execution_count": null,
   "metadata": {},
   "outputs": [],
   "source": [
    "a = 1 # the variable is assigned a value of 1"
   ]
  },
  {
   "cell_type": "code",
   "execution_count": null,
   "metadata": {},
   "outputs": [],
   "source": [
    "my_list[1]\n",
    "# change element by index\n",
    "my_list[1] = \"Change\" # the element at index 1 is assigned a value of \"Change\"\n",
    "print(my_list)"
   ]
  },
  {
   "cell_type": "markdown",
   "metadata": {},
   "source": [
    "### Example 2.1.2 (Changing Elements of Lists with Slices):"
   ]
  },
  {
   "cell_type": "code",
   "execution_count": null,
   "metadata": {},
   "outputs": [],
   "source": [
    "my_list[2:4]\n",
    "# change element by slice with step 1 \n",
    "my_list = [1, 4, 36.3, \"G\", True]\n",
    "my_list[2:4]  = [\"Change1\", \"Change2\"] # my_list[2:4] grab element 2, 3 [2,4)\n",
    "print(my_list)"
   ]
  },
  {
   "cell_type": "code",
   "execution_count": null,
   "metadata": {},
   "outputs": [],
   "source": [
    "# change element by slice with step 2\n",
    "my_list = [1, 4, 36.3, \"G\", True]\n",
    "my_list[0:5:2] = [\"Change1\", \"Change2\", \"Change3\"]\n",
    "print(my_list)"
   ]
  },
  {
   "cell_type": "markdown",
   "metadata": {},
   "source": [
    "### Example 2.2 (Adding Elements to Lists):"
   ]
  },
  {
   "cell_type": "markdown",
   "metadata": {},
   "source": [
    "- Elements can be added to lists at the beginning, in the middle and at the end\n",
    "- To add elements to lists in any of these places, it is possible to use both the built-in functions from Python and manual operations"
   ]
  },
  {
   "cell_type": "markdown",
   "metadata": {},
   "source": [
    "### Example 2.2.1 (Adding Elements to the End of Lists):"
   ]
  },
  {
   "cell_type": "markdown",
   "metadata": {},
   "source": [
    "There are 2 main methods of adding elements to the end of lists each having their own equivalent manual method:"
   ]
  },
  {
   "cell_type": "markdown",
   "metadata": {},
   "source": [
    "### Method 1: `append`"
   ]
  },
  {
   "cell_type": "code",
   "execution_count": null,
   "metadata": {},
   "outputs": [],
   "source": [
    "my_list = [1, 4, 36.3, \"G\", True]"
   ]
  },
  {
   "cell_type": "code",
   "execution_count": null,
   "metadata": {},
   "outputs": [],
   "source": [
    "# find the length of my_list\n",
    "len(my_list)"
   ]
  },
  {
   "cell_type": "code",
   "execution_count": null,
   "metadata": {},
   "outputs": [],
   "source": [
    "# add element with Python built-in method append\n",
    "my_list.append(\"New\") # append \"New\" to the end of the list (in-place)\n",
    "print(my_list)"
   ]
  },
  {
   "cell_type": "code",
   "execution_count": null,
   "metadata": {},
   "outputs": [],
   "source": [
    "len(my_list)"
   ]
  },
  {
   "cell_type": "markdown",
   "metadata": {},
   "source": [
    "You can see `dot notation` here which means that we are going \"inside\" the variable `my_list` and accessing a method that it has in its \"repertoire.\" Don't worry too much about this for now as we will go explore methods/functions more in depth in Lecture 3. "
   ]
  },
  {
   "cell_type": "markdown",
   "metadata": {},
   "source": [
    "### manual `append` method using slicing `[:]`"
   ]
  },
  {
   "cell_type": "code",
   "execution_count": null,
   "metadata": {},
   "outputs": [],
   "source": [
    "# manual equivalent of append in Python \n",
    "my_list = [1, 4, 36.3, \"G\", True]\n",
    "my_list[len(my_list):len(my_list)] = [\"New\"]\n",
    "print(my_list)"
   ]
  },
  {
   "cell_type": "markdown",
   "metadata": {},
   "source": [
    "This manual operation works because we are telling Python to insert a new sequence of items at the 5th position (which is at the end of the list since the list has length 5)"
   ]
  },
  {
   "cell_type": "markdown",
   "metadata": {},
   "source": [
    "### Method 2: `extend`"
   ]
  },
  {
   "cell_type": "code",
   "execution_count": null,
   "metadata": {},
   "outputs": [],
   "source": [
    "my_list = [1, 4, 36.3, \"G\", True]"
   ]
  },
  {
   "cell_type": "code",
   "execution_count": null,
   "metadata": {},
   "outputs": [],
   "source": [
    "# add element with Python built-in method extend \n",
    "my_list.extend([\"New\"]) # extend the list by adding \"New\" (in-place)\n",
    "print(my_list)"
   ]
  },
  {
   "cell_type": "markdown",
   "metadata": {},
   "source": [
    "Notice how the `extend` method requires the `\"New\"` character to be a list in order for the character to be added as an item and not as a sequence. Try removing the square brackets from the `\"New\"` character and observe the output. Now the result will add as a sequence and NOT as an item. This is different than the `append` method above where we added the `\"New\"` character as a `str` and the result added it as an item. "
   ]
  },
  {
   "cell_type": "markdown",
   "metadata": {},
   "source": [
    "### manual `extend` method using slicing `[:]`"
   ]
  },
  {
   "cell_type": "code",
   "execution_count": null,
   "metadata": {
    "scrolled": true
   },
   "outputs": [],
   "source": [
    "# (1) manual equivalent of extend in Python \n",
    "my_list = [1, 4, 36.3, \"G\", True]\n",
    "my_list[len(my_list):len(my_list)] = [\"New\"]\n",
    "print(my_list)"
   ]
  },
  {
   "cell_type": "markdown",
   "metadata": {},
   "source": [
    "This manual operation works because we are telling Python to insert a new sequence of items at the 5th position (which is at the end of the list since the list has length 5)"
   ]
  },
  {
   "cell_type": "markdown",
   "metadata": {},
   "source": [
    "### manual `extend` method using concatenation (`+`) and compound assignments"
   ]
  },
  {
   "cell_type": "code",
   "execution_count": null,
   "metadata": {},
   "outputs": [],
   "source": [
    "# (2) manual equivalent of append in Python \n",
    "my_list = [1, 4, 36.3, \"G\", True]\n",
    "new_list = [\"New\"]\n",
    "my_list += new_list # my_list = my_list + new_list\n",
    "print(my_list)"
   ]
  },
  {
   "cell_type": "markdown",
   "metadata": {},
   "source": [
    "### Difference between  `extend` and `append`"
   ]
  },
  {
   "cell_type": "code",
   "execution_count": null,
   "metadata": {},
   "outputs": [],
   "source": [
    "my_list = [1,2,3]\n",
    "my_list_1 = [4,5,6]\n",
    "my_list.append(my_list_1)\n",
    "print(my_list)\n",
    "print(len(my_list))"
   ]
  },
  {
   "cell_type": "code",
   "execution_count": null,
   "metadata": {},
   "outputs": [],
   "source": [
    "my_list[3]"
   ]
  },
  {
   "cell_type": "code",
   "execution_count": null,
   "metadata": {},
   "outputs": [],
   "source": [
    "my_list = [1,2,3]\n",
    "my_list.extend(my_list_1)\n",
    "print(my_list)\n",
    "print(len(my_list))"
   ]
  },
  {
   "cell_type": "markdown",
   "metadata": {},
   "source": [
    "We can see that the `append` method adds the new element as a nested list, whereas the `extend` method adds the new element as individual elements (i.e. as a sequence). Think about what use case may be suitable for each method. "
   ]
  },
  {
   "cell_type": "markdown",
   "metadata": {},
   "source": [
    "### Example 2.2.2 (Adding Elements to the Middle of Lists):"
   ]
  },
  {
   "cell_type": "markdown",
   "metadata": {},
   "source": [
    "### Method 1: `insert`"
   ]
  },
  {
   "cell_type": "code",
   "execution_count": null,
   "metadata": {},
   "outputs": [],
   "source": [
    "# add element in the middle of the list with Python built-in method insert\n",
    "my_list = [1, 4, 36.3, \"G\", True]\n",
    "my_list.insert(2, \"New\") # add \"New\" in the 2nd position (in-place)\n",
    "print(my_list)"
   ]
  },
  {
   "cell_type": "markdown",
   "metadata": {},
   "source": [
    "### manual `insert` method using slicing `[:]`"
   ]
  },
  {
   "cell_type": "code",
   "execution_count": null,
   "metadata": {},
   "outputs": [],
   "source": [
    "# manual equivalent of insert in Python \n",
    "my_list = [1, 4, 36.3, \"G\", True]\n",
    "my_list[2:2] = [\"New\"] # add \"New\" in the 2nd position \n",
    "print(my_list)"
   ]
  },
  {
   "cell_type": "markdown",
   "metadata": {},
   "source": [
    "This manual operation works because we are telling Python to insert a new sequence of items at the 2nd position (same as above)"
   ]
  },
  {
   "cell_type": "markdown",
   "metadata": {},
   "source": [
    "### Example 2.2.3 (Adding Elements to the Beginning of Lists):"
   ]
  },
  {
   "cell_type": "markdown",
   "metadata": {},
   "source": [
    "### Method 1: `insert`"
   ]
  },
  {
   "cell_type": "code",
   "execution_count": null,
   "metadata": {},
   "outputs": [],
   "source": [
    "# add element to the front of the list with Python built-in method insert\n",
    "my_list = [1, 4, 36.3, \"G\", True]\n",
    "my_list.insert(0, \"New\") # add \"New\" in the 0th position (in-place)\n",
    "print(my_list)"
   ]
  },
  {
   "cell_type": "markdown",
   "metadata": {},
   "source": [
    "### manual `insert` method using slicing `[:]`"
   ]
  },
  {
   "cell_type": "code",
   "execution_count": null,
   "metadata": {},
   "outputs": [],
   "source": [
    "# manual equivalent of insert in Python \n",
    "my_list = [1, 4, 36.3, \"G\", True]\n",
    "my_list[:0] = [\"New\"] # add \"New\" in the 0th position \n",
    "print(my_list)"
   ]
  },
  {
   "cell_type": "markdown",
   "metadata": {},
   "source": [
    "This manual operation works because we are telling Python to insert a new sequence of items at the 0th position (same as above)"
   ]
  },
  {
   "cell_type": "markdown",
   "metadata": {},
   "source": [
    "### Example 2.2.4 (Differences between Insert Method and Slicing Method):"
   ]
  },
  {
   "cell_type": "markdown",
   "metadata": {},
   "source": [
    "Be weary of the difference that is present when adding elements to a list using the `insert` method and the slice `[i:i]` method. The former method adds elements as an item and the later method adds elements as a sequence. See below for an illustration of this difference. "
   ]
  },
  {
   "cell_type": "code",
   "execution_count": null,
   "metadata": {},
   "outputs": [],
   "source": [
    "my_list = [1, 4, 36.3, \"G\", True]\n",
    "add_list = [\"New1\", \"New2\", \"New3\"]"
   ]
  },
  {
   "cell_type": "code",
   "execution_count": null,
   "metadata": {},
   "outputs": [],
   "source": [
    "# add using the insert method\n",
    "my_list.insert(2, add_list) # adds as item (in-place)\n",
    "print(my_list)\n",
    "print(len(my_list))"
   ]
  },
  {
   "cell_type": "code",
   "execution_count": null,
   "metadata": {},
   "outputs": [],
   "source": [
    "my_list = [1, 4, 36.3, \"G\", True]\n",
    "add_list = [\"New1\", \"New2\", \"New3\"]"
   ]
  },
  {
   "cell_type": "code",
   "execution_count": null,
   "metadata": {},
   "outputs": [],
   "source": [
    "# add using the slice method\n",
    "my_list[2:2] = add_list # adds as sequence (in-place)\n",
    "print(my_list)\n",
    "print(len(my_list))"
   ]
  },
  {
   "cell_type": "markdown",
   "metadata": {},
   "source": [
    "### Example 2.3 (Removing Elements from Lists):"
   ]
  },
  {
   "cell_type": "markdown",
   "metadata": {},
   "source": [
    "- Elements can be removed from lists many different ways using both Python built-in methods and manual methods using slicing. See below for examples"
   ]
  },
  {
   "cell_type": "markdown",
   "metadata": {},
   "source": [
    "### Example 2.3.1 (Removing SOME Elements from Lists):"
   ]
  },
  {
   "cell_type": "markdown",
   "metadata": {},
   "source": [
    "### Method 1: `del`"
   ]
  },
  {
   "cell_type": "code",
   "execution_count": null,
   "metadata": {},
   "outputs": [],
   "source": [
    "my_list = [1, 4, 36.3, \"G\", True]"
   ]
  },
  {
   "cell_type": "code",
   "execution_count": null,
   "metadata": {},
   "outputs": [],
   "source": [
    "# remove element with Python built-in method del (with step 1)\n",
    "del my_list[1:3] # delete elements from positions 1,2\n",
    "print(my_list)"
   ]
  },
  {
   "cell_type": "code",
   "execution_count": null,
   "metadata": {},
   "outputs": [],
   "source": [
    "my_list = [1, 4, 36.3, \"G\", True]\n",
    "# remove element with Python built-in method del (with step 2)\n",
    "del my_list[::2]\n",
    "print(my_list)"
   ]
  },
  {
   "cell_type": "markdown",
   "metadata": {},
   "source": [
    "### manual `del` method using slicing `[:]`"
   ]
  },
  {
   "cell_type": "code",
   "execution_count": null,
   "metadata": {},
   "outputs": [],
   "source": [
    "# manual equivalent of del in Python \n",
    "my_list = [1, 4, 36.3, \"G\", True]\n",
    "my_list[1:3] = [] #  delete elements from positions 1,2 with step 1 \n",
    "print(my_list)"
   ]
  },
  {
   "cell_type": "markdown",
   "metadata": {},
   "source": [
    "### Method 2: `remove`"
   ]
  },
  {
   "cell_type": "code",
   "execution_count": null,
   "metadata": {},
   "outputs": [],
   "source": [
    "# remove element with Python built-in method remove \n",
    "my_list = [1, 4, 36.3, \"G\", True]\n",
    "my_list.remove(\"G\") # delete the \"G\" element (in-place)\n",
    "print(my_list)"
   ]
  },
  {
   "cell_type": "markdown",
   "metadata": {},
   "source": [
    "Note that the `remove` method removes ONLY the FIRST item from the list that matches the input. "
   ]
  },
  {
   "cell_type": "markdown",
   "metadata": {},
   "source": [
    "### manual `remove` method using slicing [:] and `del`"
   ]
  },
  {
   "cell_type": "code",
   "execution_count": null,
   "metadata": {},
   "outputs": [],
   "source": [
    "# manual equivalent to remove in Python \n",
    "my_list = [1, 4, 36.3, \"G\", True]\n",
    "print(my_list[0] == \"G\")\n",
    "print(my_list[1] == \"G\")\n",
    "print(my_list[2] == \"G\")\n",
    "print(my_list[3] == \"G\")"
   ]
  },
  {
   "cell_type": "code",
   "execution_count": null,
   "metadata": {},
   "outputs": [],
   "source": [
    "my_list[3:4] = []\n",
    "print(my_list)"
   ]
  },
  {
   "cell_type": "code",
   "execution_count": null,
   "metadata": {},
   "outputs": [],
   "source": [
    "my_list = [1, 4, 36.3, \"G\", True]\n",
    "del my_list[3:4]\n",
    "print(my_list)"
   ]
  },
  {
   "cell_type": "markdown",
   "metadata": {},
   "source": [
    "The `remove` method iterates through each element of the list until `my_list[i] == \"G\"` returns `True` (see above print statements). Then it will go ahead and remove the element from the list. "
   ]
  },
  {
   "cell_type": "markdown",
   "metadata": {},
   "source": [
    "### Method 3: `pop`"
   ]
  },
  {
   "cell_type": "code",
   "execution_count": null,
   "metadata": {},
   "outputs": [],
   "source": [
    "# remove element with Python built-in method pop\n",
    "my_list = [1, 4, 36.3, \"G\", True]\n",
    "my_list.pop(3) # retrieves the item at element 3 and also removes it (in-place)\n",
    "print(my_list)"
   ]
  },
  {
   "cell_type": "markdown",
   "metadata": {},
   "source": [
    "### manual `pop` method using slicing [:] and `del`"
   ]
  },
  {
   "cell_type": "markdown",
   "metadata": {},
   "source": [
    "Similar to the manual equivalents to the `remove` method above."
   ]
  },
  {
   "cell_type": "markdown",
   "metadata": {},
   "source": [
    "### Example 2.3.2 (Removing ALL Elements from Lists):"
   ]
  },
  {
   "cell_type": "markdown",
   "metadata": {},
   "source": [
    "### Method 1: `clear`"
   ]
  },
  {
   "cell_type": "code",
   "execution_count": null,
   "metadata": {},
   "outputs": [],
   "source": [
    "my_list = [1, 4, 36.3, \"G\", True]"
   ]
  },
  {
   "cell_type": "code",
   "execution_count": null,
   "metadata": {},
   "outputs": [],
   "source": [
    "# remove all elements with Python built-in method clear\n",
    "my_list = [1, 4, 36.3, \"G\", True]\n",
    "my_list.clear() # clears all items in the list (in-place)\n",
    "print(my_list)"
   ]
  },
  {
   "cell_type": "markdown",
   "metadata": {},
   "source": [
    "### Method 2: `del`"
   ]
  },
  {
   "cell_type": "code",
   "execution_count": null,
   "metadata": {},
   "outputs": [],
   "source": [
    "# remove all elements with Python built-in method del\n",
    "my_list = [1, 4, 36.3, \"G\", True]\n",
    "del my_list[:]\n",
    "print(my_list)"
   ]
  },
  {
   "cell_type": "markdown",
   "metadata": {},
   "source": [
    "### manual `clear` and `del` method using slicing slicing `[:]`"
   ]
  },
  {
   "cell_type": "code",
   "execution_count": null,
   "metadata": {},
   "outputs": [],
   "source": [
    "# manual equivalent to clear and del in Python \n",
    "my_list = [1, 4, 36.3, \"G\", True]\n",
    "my_list[:] = []\n",
    "print(my_list)"
   ]
  },
  {
   "cell_type": "markdown",
   "metadata": {},
   "source": [
    "### Problem 3:\n",
    "\n",
    "Create 2 lists: the first list with your first name and the second list with your last name. Combine the two lists to make a list that contains your entire name. Repeat your name as many times as letters in your full name. \n",
    "\n",
    "Try adding your last name to your first name using both list concatenation and built-in functions."
   ]
  },
  {
   "cell_type": "code",
   "execution_count": null,
   "metadata": {},
   "outputs": [],
   "source": [
    "# write your code here \n",
    "first_name = [\"f\",\"a\",\"i\",\"z\",\"a\",\"n\"]\n",
    "last_name =[\"j\",\"a\",\"m\",\"a\",\"l\"]\n",
    "full_name = first_name + last_name\n",
    "print(full_name * len(full_name))\n",
    "\n",
    "\n"
   ]
  },
  {
   "cell_type": "markdown",
   "metadata": {},
   "source": [
    "### Problem 4:\n",
    "\n",
    "Create 2 lists: the first list with your first name and the second list with your last name. Combine the two lists to make a list that contains your entire name. Add your middle name to this combined list between your first and last name. If you don't have a middle name add `[\"m\", \"i\", \"d\", \"d\", \"l\", \"e\"]`."
   ]
  },
  {
   "cell_type": "code",
   "execution_count": null,
   "metadata": {},
   "outputs": [],
   "source": [
    "# write your code here \n",
    "first = ['y', 'u', 'n','g']\n",
    "middle = ['j', 'e']\n",
    "last = ['k', 'o', 'o']\n",
    "first.extend(last)\n",
    "first[4:4] = ['j', 'e']\n",
    "print(first)\n",
    "\n",
    "first = ['y', 'u']\n",
    "middle = ['j', 'e', 'l']\n",
    "last = ['k', 'o', 'o']\n",
    "first.extend(last)\n",
    "first[4:4] = ['j', 'e']\n",
    "print(first)\n",
    "\n",
    "\n"
   ]
  },
  {
   "cell_type": "markdown",
   "metadata": {},
   "source": [
    "### Example 2.4 (Other Operations on Lists):"
   ]
  },
  {
   "cell_type": "markdown",
   "metadata": {},
   "source": [
    "### Example 2.4.1 (Copying Lists):"
   ]
  },
  {
   "cell_type": "markdown",
   "metadata": {},
   "source": [
    "__Overview:__\n",
    "- To understand how lists are copied and what happens when a list is copied, we first have to explore the differences between a __view__, __shallow copy__, and __deep copy__\n",
    "- More information on __[Object Copying](https://en.wikipedia.org/wiki/Object_copying)__ \n",
    "\n",
    "__Helpful Points:__\n",
    "1. The best way to understand the differences is to simply see the 3 types in action \n",
    "2. The `=` operator always creates a view \n",
    "3. The `copy()` function always creates a shallow copy\n",
    "4. To create a deep copy, we have to use some external tools \n",
    "5. Note that different programming languages have different standards - for example, in R, every time you assign a variable, it is a deep copy \n",
    "\n",
    "__Practice:__ Examples of the three variants in Python "
   ]
  },
  {
   "cell_type": "markdown",
   "metadata": {},
   "source": [
    "### Example 2.4.1.1 (View):"
   ]
  },
  {
   "cell_type": "markdown",
   "metadata": {},
   "source": [
    "Any time you assign a variable to another variable using the `=` sign (__[Name Binding](https://en.wikipedia.org/wiki/Name_binding)__), we are not creating a separate object. Instead, the new variable is just an alias or reference to the original object."
   ]
  },
  {
   "cell_type": "code",
   "execution_count": null,
   "metadata": {},
   "outputs": [],
   "source": [
    "my_list = [\"a\", \"b\", \"c\"]\n",
    "my_list_1 = my_list # created as a reference/alias to my_list\n",
    "my_list[0] = \"New\" # changes both my_list and anything that references it \n",
    "my_list_1[0] = \"New\"\n",
    "print(my_list)\n",
    "print(my_list_1)"
   ]
  },
  {
   "cell_type": "code",
   "execution_count": null,
   "metadata": {},
   "outputs": [],
   "source": [
    "print(id(my_list))\n",
    "print(id(my_list_1))"
   ]
  },
  {
   "cell_type": "code",
   "execution_count": null,
   "metadata": {},
   "outputs": [],
   "source": [
    "my_list is my_list_1"
   ]
  },
  {
   "cell_type": "markdown",
   "metadata": {},
   "source": [
    "Therefore, we can see that when the variable `my_list_1` was created, it was not created as a separate, stand-alone object. Instead, it is simply an alias or reference to the `my_list` variable and you can see that the two variables share the same unique integer identity. The consequence is that if `my_list` changes, `my_list_1` ALSO changes since it references `my_list` (whatever happens to `my_list` ALSO happens to `my_list_1`)."
   ]
  },
  {
   "cell_type": "markdown",
   "metadata": {},
   "source": [
    "### Example 2.4.1.2 (Shallow Copy - Layer 1):"
   ]
  },
  {
   "cell_type": "markdown",
   "metadata": {},
   "source": [
    "If you don't want the behavior above where the new variable simply references the original variable and both are subject to each other's changes, then use a shallow copy to protect against this. \n",
    "\n",
    "Layer 1 refers to non-nested lists (or in general, __non-compound objects__ - objects that do contain other objects)"
   ]
  },
  {
   "cell_type": "markdown",
   "metadata": {},
   "source": [
    "### Method 1: Shallow Copy using `copy()` function (layer 1)"
   ]
  },
  {
   "cell_type": "code",
   "execution_count": null,
   "metadata": {},
   "outputs": [],
   "source": [
    "my_list = [\"a\", \"b\", \"c\"]\n",
    "my_list_1 = my_list.copy() # shallow copy (method 1)\n",
    "my_list[0] = \"New\" # only changes my_list and NOT my_list_1\n",
    "print(my_list)\n",
    "print(my_list_1)"
   ]
  },
  {
   "cell_type": "code",
   "execution_count": null,
   "metadata": {
    "scrolled": true
   },
   "outputs": [],
   "source": [
    "print(id(my_list))\n",
    "print(id(my_list_1))"
   ]
  },
  {
   "cell_type": "markdown",
   "metadata": {},
   "source": [
    "Each variable now has a different identity (each reference a unique object)"
   ]
  },
  {
   "cell_type": "markdown",
   "metadata": {},
   "source": [
    "### Method 2: Shallow Copy using slicing `[:]` (layer 1)"
   ]
  },
  {
   "cell_type": "code",
   "execution_count": null,
   "metadata": {},
   "outputs": [],
   "source": [
    "my_list = [\"a\", \"b\", \"c\"]\n",
    "my_list_1 = my_list[:] # shallow copy (method 2)\n",
    "my_list[0] = \"New\" # only changes my_list and NOT my_list_1\n",
    "print(my_list)\n",
    "print(my_list_1)"
   ]
  },
  {
   "cell_type": "code",
   "execution_count": null,
   "metadata": {
    "scrolled": true
   },
   "outputs": [],
   "source": [
    "print(id(my_list))\n",
    "print(id(my_list_1))"
   ]
  },
  {
   "cell_type": "markdown",
   "metadata": {},
   "source": [
    "Therefore, we can see that in both cases when the variable `my_list_1` was created, it was created as a separate, stand-alone object. It no longer references the `my_list` variable. The consequence is that if `my_list` changes, `my_list_1` DOES NOT changes since it DOES NOT reference `my_list` (whatever happens to `my_list` DOES NOT happen to `my_list_1`)."
   ]
  },
  {
   "cell_type": "markdown",
   "metadata": {},
   "source": [
    "### Example 2.4.1.3 (Shallow Copy - Layer 2):"
   ]
  },
  {
   "cell_type": "markdown",
   "metadata": {},
   "source": [
    "Layer 2 refers to nested lists (or in general, __compound objects__ - objects that contain other objects)"
   ]
  },
  {
   "cell_type": "markdown",
   "metadata": {},
   "source": [
    "### Method 1: Shallow Copy using `copy()` function (layer 2)"
   ]
  },
  {
   "cell_type": "code",
   "execution_count": null,
   "metadata": {},
   "outputs": [],
   "source": [
    "my_list = [\"a\", \"b\", \"c\"]\n",
    "nested_list = [my_list, 1, 2, 3]\n",
    "print(nested_list)"
   ]
  },
  {
   "cell_type": "code",
   "execution_count": null,
   "metadata": {},
   "outputs": [],
   "source": [
    "nested_list_1 = nested_list.copy() # shallow copy (method 1)\n",
    "nested_list[0][0] = \"New\" # changes both nested_list AND nested_list_1 \n",
    "print(nested_list)\n",
    "print(nested_list_1)"
   ]
  },
  {
   "cell_type": "markdown",
   "metadata": {},
   "source": [
    "### Method 2: Shallow Copy using slicing `[:]` (layer 2)"
   ]
  },
  {
   "cell_type": "code",
   "execution_count": null,
   "metadata": {},
   "outputs": [],
   "source": [
    "my_list = [\"a\", \"b\", \"c\"]\n",
    "nested_list = [my_list, 1, 2, 3]\n",
    "print(nested_list)"
   ]
  },
  {
   "cell_type": "code",
   "execution_count": null,
   "metadata": {},
   "outputs": [],
   "source": [
    "nested_list_1 = nested_list[:] # shallow copy (method 2)\n",
    "nested_list[0][0] = \"New\" # changes both nested_list AND nested_list_1 \n",
    "print(nested_list)\n",
    "print(nested_list_1)"
   ]
  },
  {
   "cell_type": "markdown",
   "metadata": {},
   "source": [
    "Therefore, we can see that in both cases when the variable `nested_list_1` was created, it was not created as a separate, stand-alone object. Instead, it is simply an alias or reference to the `nested_list` variable. The consequence is that if `nested_list` changes, `nested_list_1` ALSO changes since it references `nested_list` (whatever happens to `nested_list` ALSO happens to `nested_list_1`)."
   ]
  },
  {
   "cell_type": "markdown",
   "metadata": {},
   "source": [
    "### Example 2.4.1.4 (Deep Copy - All Layers)"
   ]
  },
  {
   "cell_type": "markdown",
   "metadata": {},
   "source": [
    "If you don't want the behavior above where the new variable in nested lists simply references the original variable and both are subject to each other's changes, then use a deep copy to protect against this. \n",
    "\n",
    "To perform Deep Copies in Python, we have to consult an 'external resource' known as a __module__. We will cover modules in depth in Lecture 3, so don't worry about it for now. In this case, the module name is called `copy` and you can read more about it [here](https://docs.python.org/3/library/copy.html)"
   ]
  },
  {
   "cell_type": "code",
   "execution_count": null,
   "metadata": {},
   "outputs": [],
   "source": [
    "# get all the resources from this external resource\n",
    "import copy"
   ]
  },
  {
   "cell_type": "code",
   "execution_count": null,
   "metadata": {},
   "outputs": [],
   "source": [
    "my_list = [\"a\", \"b\", \"c\"]\n",
    "nested_list = [my_list, 1, 2, 3]\n",
    "print(nested_list)"
   ]
  },
  {
   "cell_type": "code",
   "execution_count": null,
   "metadata": {},
   "outputs": [],
   "source": [
    "nested_list_1 = copy.deepcopy(nested_list) # deep copy \n",
    "nested_list[0][0] = \"New\" # only changes nested_list and NOT nested_list_1\n",
    "print(nested_list)\n",
    "print(nested_list_1)"
   ]
  },
  {
   "cell_type": "markdown",
   "metadata": {},
   "source": [
    "### Example 2.4.2 (Reversing Lists):"
   ]
  },
  {
   "cell_type": "markdown",
   "metadata": {},
   "source": [
    "We have already seen some manual ways of reversing lists using slicing. However, Python also offers a convenient `reverse()` function for mutable sequence types. See example below:"
   ]
  },
  {
   "cell_type": "code",
   "execution_count": null,
   "metadata": {},
   "outputs": [],
   "source": [
    "my_list = [100, 101, 102]"
   ]
  },
  {
   "cell_type": "code",
   "execution_count": null,
   "metadata": {},
   "outputs": [],
   "source": [
    "my_list.reverse() # reverses the list (in-place)\n",
    "print(my_list)"
   ]
  },
  {
   "cell_type": "code",
   "execution_count": null,
   "metadata": {},
   "outputs": [],
   "source": [
    "my_list = [100, 101, 102]\n",
    "my_list[::-1] # manual implementation (not in-place)"
   ]
  },
  {
   "cell_type": "code",
   "execution_count": null,
   "metadata": {},
   "outputs": [],
   "source": [
    "print(my_list)"
   ]
  },
  {
   "cell_type": "markdown",
   "metadata": {},
   "source": [
    "### 2.2.7 Overview of Sequence Type 2 - Strings"
   ]
  },
  {
   "cell_type": "markdown",
   "metadata": {},
   "source": [
    "__Overview:__\n",
    "- __[Strings](https://docs.python.org/3/library/stdtypes.html#index-26)__ were first introduced in Lecture 1 as a way of storing textual data in Python \n",
    "- Unlike lists, strings are __immutable__ (their contents can not be modified in any way) \n",
    "\n",
    "__Helpful Points:__\n",
    "1. Recall that strings can have single, double, or triple quotes \n",
    "2. Recall that strings and other numeric types can participate in __type conversion__ (`int` to `str`, `float` to `str`, etc.)\n",
    "3. Similar to lists, a nested string is possible and would consist of one type of quotes within another types of quotes"
   ]
  },
  {
   "cell_type": "markdown",
   "metadata": {},
   "source": [
    "### 2.2.8 Creating Strings \n",
    "\n",
    "Refer to section 1.9 to see how strings are created "
   ]
  },
  {
   "cell_type": "markdown",
   "metadata": {},
   "source": [
    "### 2.2.9 Accessing Elements within Strings"
   ]
  },
  {
   "cell_type": "markdown",
   "metadata": {},
   "source": [
    "__Overview:__\n",
    "- Each item within a string are referred to as __elements__ and they can easily be accessed (for example, if you want to extract the second element of a string)\n",
    "- Similar to lists, each element is assigned a number beginning with 0 \n",
    "- Both methods of indexing (single-indexing and multi-indexing by slicing) as outlined in section 2.2.5 are also applicable for strings \n",
    "\n",
    "__Helpful Points:__ \n",
    "1. Similar to lists, strings can only be indexed by `int` and not any other type (i.e. `bool`)\n",
    "2. The peculiar but helpful features of indexing-out-of-range are also present with strings \n",
    "\n",
    "__Practice:__ Examples of accessing elements within strings "
   ]
  },
  {
   "cell_type": "markdown",
   "metadata": {},
   "source": [
    "### Example 1 (Index Method 1 with Positive Index):"
   ]
  },
  {
   "cell_type": "code",
   "execution_count": null,
   "metadata": {},
   "outputs": [],
   "source": [
    "my_string = \"Gordon\"\n",
    "# my_string_fwd_index = [0,1,2,3,4,5]"
   ]
  },
  {
   "cell_type": "code",
   "execution_count": null,
   "metadata": {},
   "outputs": [],
   "source": [
    "my_string[0] # simply accessing an element via its index"
   ]
  },
  {
   "cell_type": "code",
   "execution_count": null,
   "metadata": {},
   "outputs": [],
   "source": [
    "my_string[0] = \"J\" # str data types are immutable  (chang9ng an element via its in index)"
   ]
  },
  {
   "cell_type": "code",
   "execution_count": null,
   "metadata": {},
   "outputs": [],
   "source": [
    "# oth element from the left (with and without saving string as a variable)\n",
    "print(my_string[0])\n",
    "print(\"Gordon\"[0])\n",
    "type(\"Gordon\"[0])"
   ]
  },
  {
   "cell_type": "markdown",
   "metadata": {},
   "source": [
    "### Example 2 (Index Method 2 with Positive Slice and Forward Direction):"
   ]
  },
  {
   "cell_type": "code",
   "execution_count": null,
   "metadata": {},
   "outputs": [],
   "source": [
    "my_string_1 = \"Roberto\""
   ]
  },
  {
   "cell_type": "code",
   "execution_count": null,
   "metadata": {},
   "outputs": [],
   "source": [
    "# slice from 1st element to 4th element (5th element minus one) by step 1 \n",
    "print(my_string_1[1:5])\n",
    "type(my_string_1[1:5])"
   ]
  },
  {
   "cell_type": "code",
   "execution_count": null,
   "metadata": {},
   "outputs": [],
   "source": [
    "# slice from 1st element to 4th element (5th element minus one) by step 2 \n",
    "print(my_string_1[1:5:2])"
   ]
  },
  {
   "cell_type": "markdown",
   "metadata": {},
   "source": [
    "### Example 3 (Index Method 2 with Positive Slice, Forward Direction and Ommitted Argument(s) ):"
   ]
  },
  {
   "cell_type": "code",
   "execution_count": null,
   "metadata": {},
   "outputs": [],
   "source": [
    "my_string_1 = \"Roberto\""
   ]
  },
  {
   "cell_type": "code",
   "execution_count": null,
   "metadata": {},
   "outputs": [],
   "source": [
    "# ommitting stop and step arguments\n",
    "# return 1st element to last element \n",
    "print(my_string_1[1:])"
   ]
  },
  {
   "cell_type": "code",
   "execution_count": null,
   "metadata": {},
   "outputs": [],
   "source": [
    "# ommitting start and step arguments\n",
    "# return 0th element to 2nd element (3rd element minus one)\n",
    "print(my_string_1[:3])"
   ]
  },
  {
   "cell_type": "markdown",
   "metadata": {},
   "source": [
    "Note: not all types of examples are shown here with strings since the process is identical to that of accessing elements within lists. If you want to refresh your memory, see section 2.2.5 and follow examples 1 - 6, but swap the list for a string. "
   ]
  },
  {
   "cell_type": "markdown",
   "metadata": {},
   "source": [
    "### Example 4 (Indexing Out-of-Range - No Error):"
   ]
  },
  {
   "cell_type": "code",
   "execution_count": null,
   "metadata": {},
   "outputs": [],
   "source": [
    "# will not yield an error\n",
    "my_string_1[:10]"
   ]
  },
  {
   "cell_type": "code",
   "execution_count": null,
   "metadata": {},
   "outputs": [],
   "source": [
    "# will not yield an error\n",
    "my_string_1[10:]"
   ]
  },
  {
   "cell_type": "markdown",
   "metadata": {},
   "source": [
    "### 2.2.10 More String Operations "
   ]
  },
  {
   "cell_type": "markdown",
   "metadata": {},
   "source": [
    "__Overview:__\n",
    "- Recall in section 2.2.2 the types of operations available for Sequence Types \n",
    "- Since the `str` type is immutable, we can only perform the Common Sequence Operations and NOT the Mutable Sequence Type Operations (like we did for lists)\n",
    "\n",
    "__Helpful Points:__\n",
    "1. Below, Part 1 will cover the Common Sequence Type Operations (membership test operations, list concatenation and repetition, and misc. actions)\n",
    "2. Below, Part 2 will cover some helpful built-in Python functions for common string operations \n",
    "3. Below, Part 3 will cover some helpful built-in Python functions for common string formatting \n",
    "\n",
    "__Practice:__ Examples of String Operations in Python "
   ]
  },
  {
   "cell_type": "markdown",
   "metadata": {},
   "source": [
    "### Part 1: Common Sequence Type Operations "
   ]
  },
  {
   "cell_type": "markdown",
   "metadata": {},
   "source": [
    "### Example 1.1 (Membership Test Operations - `in` for strings):"
   ]
  },
  {
   "cell_type": "markdown",
   "metadata": {},
   "source": [
    "See section 1.10.3 in Lecture 1"
   ]
  },
  {
   "cell_type": "markdown",
   "metadata": {},
   "source": [
    "### Example 1.2 (Concatenation of Strings):"
   ]
  },
  {
   "cell_type": "code",
   "execution_count": null,
   "metadata": {},
   "outputs": [],
   "source": [
    "string_1 = \"Garrett\"\n",
    "string_2 = \" is a co-instructor\"\n",
    "string_3 = string_1 + string_2 # not vectorized addition \n",
    "print(string_3)"
   ]
  },
  {
   "cell_type": "code",
   "execution_count": null,
   "metadata": {},
   "outputs": [],
   "source": [
    "string_1 += string_2 # string_1 = string_1 + string_2\n",
    "print(string_1)"
   ]
  },
  {
   "cell_type": "markdown",
   "metadata": {},
   "source": [
    "### Example 1.3 (Repetition of Strings):"
   ]
  },
  {
   "cell_type": "code",
   "execution_count": null,
   "metadata": {},
   "outputs": [],
   "source": [
    "string_1 = \"Gordon\"\n",
    "print(string_1 * 2)"
   ]
  },
  {
   "cell_type": "markdown",
   "metadata": {},
   "source": [
    "### Example 1.4 (Misc. Actions on Strings):"
   ]
  },
  {
   "cell_type": "markdown",
   "metadata": {},
   "source": [
    "- Within the Common Sequence Types, there exist a set of useful functions that can be used as operations on lists (len, min, max, index, count, and sort))"
   ]
  },
  {
   "cell_type": "markdown",
   "metadata": {},
   "source": [
    "### Example 1.4.1 (Simple Actions - `len`, `min`, `max`, `index`, `count`):"
   ]
  },
  {
   "cell_type": "code",
   "execution_count": null,
   "metadata": {},
   "outputs": [],
   "source": [
    "my_string = \"supercalifragilisticexpialidocious\""
   ]
  },
  {
   "cell_type": "code",
   "execution_count": null,
   "metadata": {},
   "outputs": [],
   "source": [
    "# find the length of the string (number of elements in the string)\n",
    "len(my_string)"
   ]
  },
  {
   "cell_type": "code",
   "execution_count": null,
   "metadata": {},
   "outputs": [],
   "source": [
    "# find the minimum value of the string (first in the alphabet)\n",
    "min(my_string)"
   ]
  },
  {
   "cell_type": "code",
   "execution_count": null,
   "metadata": {},
   "outputs": [],
   "source": [
    "# find the maximum value of the string (last in the alphabet)\n",
    "max(my_string)"
   ]
  },
  {
   "cell_type": "code",
   "execution_count": null,
   "metadata": {},
   "outputs": [],
   "source": [
    "# find the index of the first occurrence of a in my_string\n",
    "my_string.index(\"a\")"
   ]
  },
  {
   "cell_type": "code",
   "execution_count": null,
   "metadata": {},
   "outputs": [],
   "source": [
    "# find the total number of occurrences of a in my_string\n",
    "my_string.count(\"a\")"
   ]
  },
  {
   "cell_type": "markdown",
   "metadata": {},
   "source": [
    "### Example 1.4.2 (Advanced Actions - `sort`):"
   ]
  },
  {
   "cell_type": "markdown",
   "metadata": {},
   "source": [
    "Since strings are immutable, sorting strings in Python can only be done 1 way - with the generic `sorted()` function which simply returns a copy of the object and does not attempty to modify the original string. "
   ]
  },
  {
   "cell_type": "code",
   "execution_count": null,
   "metadata": {},
   "outputs": [],
   "source": [
    "my_string = \"supercalifragilisticexpialidocious\""
   ]
  },
  {
   "cell_type": "code",
   "execution_count": null,
   "metadata": {},
   "outputs": [],
   "source": [
    "# sort the string in alphabetical order\n",
    "print(sorted(my_string))\n",
    "print(my_string) # prints original, unchanged variable (not in-place algorithm)"
   ]
  },
  {
   "cell_type": "markdown",
   "metadata": {},
   "source": [
    "We can see that the `sorted()` function simply returned a copy of the original string, but when we print the original string, it has not changed. This is an example of not in-place. "
   ]
  },
  {
   "cell_type": "markdown",
   "metadata": {},
   "source": [
    "### Part 2: Built-In Functions for Common String Operations"
   ]
  },
  {
   "cell_type": "markdown",
   "metadata": {},
   "source": [
    "Python provides an expansive list of built-in __[string methods](https://docs.python.org/3/library/stdtypes.html#string-methods)__ that are very helpful for operating on strings. You can review the entire list, but we will cover the most common methods below."
   ]
  },
  {
   "cell_type": "markdown",
   "metadata": {},
   "source": [
    "### Example 2.1 (Common String Method 1 )"
   ]
  },
  {
   "cell_type": "code",
   "execution_count": null,
   "metadata": {},
   "outputs": [],
   "source": [
    "my_string = \"\"\"\n",
    "O Romeo, Romeo! wherefore art thou Romeo? Deny thy father and refuse thy name;\n",
    "Or, if thou wilt not, be but sworn my love, And I'll no longer be a Capulet. \n",
    "\"\"\""
   ]
  },
  {
   "cell_type": "code",
   "execution_count": null,
   "metadata": {},
   "outputs": [],
   "source": [
    "print(my_string.lower()) # returns the lowercase version of the string (not in-place)\n",
    "print(my_string)  "
   ]
  },
  {
   "cell_type": "code",
   "execution_count": null,
   "metadata": {},
   "outputs": [],
   "source": [
    "my_string = \"\"\"\n",
    "O Romeo, Romeo! wherefore art thou Romeo? Deny thy father and refuse thy name;\n",
    "Or, if thou wilt not, be but sworn my love, And I'll no longer be a Capulet. \n",
    "\"\"\""
   ]
  },
  {
   "cell_type": "code",
   "execution_count": null,
   "metadata": {},
   "outputs": [],
   "source": [
    "print(my_string.upper()) # returns the uppercase version of the string (not in-place)\n",
    "print(my_string)  "
   ]
  },
  {
   "cell_type": "markdown",
   "metadata": {},
   "source": [
    "### Example 2.2 (Common String Method 2 )"
   ]
  },
  {
   "cell_type": "code",
   "execution_count": null,
   "metadata": {},
   "outputs": [],
   "source": [
    "my_string = \"\"\"\n",
    "O Romeo, Romeo! wherefore art thou Romeo? Deny thy father and refuse thy name;\n",
    "Or, if thou wilt not, be but sworn my love, And I'll no longer be a Capulet. \n",
    "\"\"\""
   ]
  },
  {
   "cell_type": "code",
   "execution_count": null,
   "metadata": {},
   "outputs": [],
   "source": [
    "print(my_string.isalpha()) # tests if all the string characters are in the alphabetic class "
   ]
  },
  {
   "cell_type": "markdown",
   "metadata": {},
   "source": [
    "### Example 2.3 (Common String Method 3)"
   ]
  },
  {
   "cell_type": "code",
   "execution_count": null,
   "metadata": {},
   "outputs": [],
   "source": [
    "print(my_string.find(\"Romeo\")) # searches for the string \"Romeo\" within my_string and returns the first index where it begins"
   ]
  },
  {
   "cell_type": "code",
   "execution_count": null,
   "metadata": {},
   "outputs": [],
   "source": [
    "my_string[3]"
   ]
  },
  {
   "cell_type": "markdown",
   "metadata": {},
   "source": [
    "### Example 2.4 (Common String Method 4)"
   ]
  },
  {
   "cell_type": "code",
   "execution_count": null,
   "metadata": {},
   "outputs": [],
   "source": [
    "print(my_string.replace(\"Romeo\", \"Gordon\")) # replaces all occurrences of \"Romeo\" with \"Gordon\" (NOT in-place)\n",
    "print(my_string)"
   ]
  },
  {
   "cell_type": "markdown",
   "metadata": {},
   "source": [
    "### Example 2.5 (Common String Method 5)"
   ]
  },
  {
   "cell_type": "code",
   "execution_count": null,
   "metadata": {},
   "outputs": [],
   "source": [
    "print(my_string.split()) # returns a list of substrings separated by the default delimiter (whitespace)"
   ]
  },
  {
   "cell_type": "code",
   "execution_count": null,
   "metadata": {},
   "outputs": [],
   "source": [
    "print(my_string.split(\";\")) # returns a list of substrings separated by semi-colon"
   ]
  },
  {
   "cell_type": "markdown",
   "metadata": {},
   "source": [
    "### Example 2.6 (Common String Method 6)"
   ]
  },
  {
   "cell_type": "code",
   "execution_count": null,
   "metadata": {},
   "outputs": [],
   "source": [
    "split_string = my_string.split()\n",
    "print(split_string)\n",
    "print(\"\".join(split_string)) # joins the split_string (list) to a string (empty string) without spaces "
   ]
  },
  {
   "cell_type": "markdown",
   "metadata": {},
   "source": [
    "### Part 3: Built-In Functions for Common String Formatting "
   ]
  },
  {
   "cell_type": "markdown",
   "metadata": {},
   "source": [
    "__Overview:__\n",
    "- Python provides many useful ways of formatting strings for \"fancier ouput\"\n",
    "- There are 2 main methods of which these belong to:\n",
    "> 1. Using the `str.format()` function. The official documentation of this function can be found [here](https://docs.python.org/3/library/stdtypes.html#str.format) and [here](https://docs.python.org/3/library/string.html#formatstrings). Although the most helpful information on how it can be implemented can be found [here](https://docs.python.org/3/tutorial/inputoutput.html#fancier-output-formatting)\n",
    "> 2. (New in Python 3.6) Using __[Formatted String Literals](https://docs.python.org/3/reference/lexical_analysis.html#f-strings)__ otherwise known as __f-strings__\n",
    "\n",
    "__Helpful Points:__\n",
    "1. Within each method above, there are multiple ways of executing the functions \n",
    "2. Each of these ways will be explained below in the examples\n",
    "3. See [this](https://pyformat.info/) post for a comprehensive look at the various types of string formatting using the `str.format` function\n",
    "\n",
    "__Practice:__ Examples of string formatting in Python "
   ]
  },
  {
   "cell_type": "markdown",
   "metadata": {},
   "source": [
    "### Example 3.1 (Using `str.format()` function):"
   ]
  },
  {
   "cell_type": "markdown",
   "metadata": {},
   "source": [
    "### Example 3.1.2 (Empty {} in `str.format()` function):"
   ]
  },
  {
   "cell_type": "code",
   "execution_count": null,
   "metadata": {},
   "outputs": [],
   "source": [
    "co_designer_1 = \"gordon\"\n",
    "co_designer_1 = \"gordon\""
   ]
  },
  {
   "cell_type": "code",
   "execution_count": null,
   "metadata": {},
   "outputs": [],
   "source": [
    "print(\"We, {} and {} are happy to be your co-designers\".format(co_designer_1, co_designer_2))"
   ]
  },
  {
   "cell_type": "markdown",
   "metadata": {},
   "source": [
    "The \"curly\" brackets and characters within them (called format fields) are replaced with the objects passed into the `format()` method. "
   ]
  },
  {
   "cell_type": "markdown",
   "metadata": {},
   "source": [
    "### Example 3.1.3 (Positional Arguments in {} in `str.format()` function):"
   ]
  },
  {
   "cell_type": "code",
   "execution_count": null,
   "metadata": {},
   "outputs": [],
   "source": [
    "print(\"{0} and {1}\".format(\"Gordon\", \"Roberto\"))\n",
    "print(\"{1} and {0}\".format(\"Gordon\", \"Roberto\"))"
   ]
  },
  {
   "cell_type": "markdown",
   "metadata": {},
   "source": [
    "A number in the brackets can be used to refer to the position of the object passed into the `format()` method. "
   ]
  },
  {
   "cell_type": "markdown",
   "metadata": {},
   "source": [
    "### Example 3.1.4 (Keyword Arguments in {} in str.format() function):"
   ]
  },
  {
   "cell_type": "code",
   "execution_count": null,
   "metadata": {},
   "outputs": [],
   "source": [
    "print(\"{designer_name_1} and {designer_name_2} both created this course\".format(designer_name_1=\"Gordon\", designer_name_2=\"Roberto\"))"
   ]
  },
  {
   "cell_type": "markdown",
   "metadata": {},
   "source": [
    "If keyword arguments are used in the `str.format()` method, their values are referred to by using the name of the argument. Note, we can also combine both keyword and positional arguments."
   ]
  },
  {
   "cell_type": "markdown",
   "metadata": {},
   "source": [
    "### Example 3.1.5 (Specifiers in {} in `str.format()` function):"
   ]
  },
  {
   "cell_type": "code",
   "execution_count": null,
   "metadata": {},
   "outputs": [],
   "source": [
    "print(\"The value of PI is approximately {0:0.3f} to 3 decimal places\".format(3.14159265359))"
   ]
  },
  {
   "cell_type": "markdown",
   "metadata": {},
   "source": [
    "An optional `:` and format specifier (0.3f - 3 decimal places for a float) can follow the field name. Note, the other format specifiers include `i` (int), and `s` (string)."
   ]
  },
  {
   "cell_type": "code",
   "execution_count": null,
   "metadata": {},
   "outputs": [],
   "source": [
    "print(\"The value of PI is {:.5}\".format(\"3.14159265359\"))"
   ]
  },
  {
   "cell_type": "markdown",
   "metadata": {},
   "source": [
    "Note, we can also use this format to truncate long strings. The above example simply truncates the string that is passed into the format parantheses. It does not know anything about the integer values and thus does not do any rounding - it is treated as a series of characters. "
   ]
  },
  {
   "cell_type": "markdown",
   "metadata": {},
   "source": [
    "### Example 3.2 (Using Formatted String Literals):"
   ]
  },
  {
   "cell_type": "code",
   "execution_count": null,
   "metadata": {},
   "outputs": [],
   "source": [
    "print(f\"The value of PI is approximately {3.14159265359:0.3f} to 3 decimal places\")"
   ]
  },
  {
   "cell_type": "markdown",
   "metadata": {},
   "source": [
    "See the table [here](https://docs.python.org/3/library/stdtypes.html#old-string-formatting) which will help you understand what values are appropriate to enter the `{}`"
   ]
  },
  {
   "cell_type": "markdown",
   "metadata": {},
   "source": [
    "### Problem 5\n",
    "\n",
    "Repeat the first part of problem 3 (combining first and last name), but using strings.\n",
    "\n",
    "Notes:\n",
    "- Create the 2 strings in lower case and then use a built-in string method to capitalize the words (see [this link](https://docs.python.org/3/library/stdtypes.html#string-methods) to find the proper function to use)\n",
    "- Use string formatting to output your results"
   ]
  },
  {
   "cell_type": "code",
   "execution_count": null,
   "metadata": {},
   "outputs": [],
   "source": [
    "# write your code here\n",
    "\n",
    "\n",
    "\n"
   ]
  },
  {
   "cell_type": "markdown",
   "metadata": {},
   "source": [
    "### Problem 6\n",
    "\n",
    "Replace `\"Brussels Sprouts\"` with your favorite food in the string `\"My favorite food is Brussels Sprouts\"`.\n",
    "\n",
    "Notes:\n",
    "- Use the `replace` commond string method"
   ]
  },
  {
   "cell_type": "code",
   "execution_count": null,
   "metadata": {},
   "outputs": [],
   "source": [
    "# write your code here\n",
    "\n",
    "\n",
    "\n"
   ]
  },
  {
   "cell_type": "markdown",
   "metadata": {},
   "source": [
    "### 2.2.11 Overview of Sequence Type 3 - Tuples"
   ]
  },
  {
   "cell_type": "markdown",
   "metadata": {},
   "source": [
    "__Overview:__\n",
    "- __[Tuples](https://docs.python.org/3/library/stdtypes.html#tuple):__ Tuples are immutable sequences typically used to store collections of hetereogeneous (dissimilar) data (compare with lists which are mutable and typically used to store collections of homogeneous data) \n",
    "\n",
    "__Helpful Points:__\n",
    "1. Tuples are defined by elements separated by commas and enclosed with parantheses (although parantheses are optional)\n",
    "2. Tuples are necessary when an immutable sequence of homogenous data is needed (i.e. in dictionaries and sets - see below for explanations of these data types)\n",
    "3. Tuples appear almost everywhere in Python (i.e. in function arguments - see Lecture 3 for more detail on functions and their arguments)\n",
    "4. Tuples provide a safeguard against accidental tampering of data "
   ]
  },
  {
   "cell_type": "markdown",
   "metadata": {},
   "source": [
    "### 2.2.12 Creating Tuples"
   ]
  },
  {
   "cell_type": "markdown",
   "metadata": {},
   "source": [
    "__Overview:__\n",
    "- There are multiple ways of creating tuples in Python:\n",
    "> 1. Method 1: Using a pair of parantheses to denote an empty tuple \n",
    "> 2. Method 2: Using parantheses, separating items with commas (or just separating items with commas - this is actually an example of __Packing__ which is a very useful characteristic of tuples and will be explained below)\n",
    "> 3. Method 3: Using the __Type Constructor__\n",
    "\n",
    "__Helpful Points:__\n",
    "1. Similar to lists, it is also possible to create a tuple within a tuple also known as __Nested Tuple__ \n",
    "2. Each type of tuple creation will be explored below\n",
    "\n",
    "__Practice:__ Examples of creating tuples in Python "
   ]
  },
  {
   "cell_type": "markdown",
   "metadata": {},
   "source": [
    "### Example 1 (Create Tuple with Method 1)"
   ]
  },
  {
   "cell_type": "code",
   "execution_count": null,
   "metadata": {},
   "outputs": [],
   "source": [
    "# create empty tuple \n",
    "empty_tuple = ()\n",
    "print(empty_tuple)"
   ]
  },
  {
   "cell_type": "code",
   "execution_count": null,
   "metadata": {},
   "outputs": [],
   "source": [
    "type(empty_tuple)"
   ]
  },
  {
   "cell_type": "markdown",
   "metadata": {},
   "source": [
    "### Example 2 (Create Tuple with Method 2)"
   ]
  },
  {
   "cell_type": "code",
   "execution_count": null,
   "metadata": {},
   "outputs": [],
   "source": [
    "# create tuple with parantheses \n",
    "singleton_tuple = (10,) # [10] -> list with 1 element \n",
    "print(singleton_tuple)"
   ]
  },
  {
   "cell_type": "code",
   "execution_count": null,
   "metadata": {},
   "outputs": [],
   "source": [
    "# create tuple without parantheses \n",
    "singleton_tuple_1 = 10, \n",
    "print(singleton_tuple_1)"
   ]
  },
  {
   "cell_type": "code",
   "execution_count": null,
   "metadata": {},
   "outputs": [],
   "source": [
    "# create tuple with parantheses \n",
    "new_tuple = (True, 1.0, \"Gordon\")\n",
    "print(new_tuple)"
   ]
  },
  {
   "cell_type": "code",
   "execution_count": null,
   "metadata": {},
   "outputs": [],
   "source": [
    "# create tuple without parantheses (this is actually packing - explained below)\n",
    "new_tuple_1 = True, 1.0, \"Gordon\"\n",
    "print(new_tuple_1)"
   ]
  },
  {
   "cell_type": "markdown",
   "metadata": {},
   "source": [
    "Note we can create the same tuple by removing the parantheses since these are optional. However, if there is only one item in the tuple (singleton), then we need the comma, otherwise the interpreter will interpret this as a number. "
   ]
  },
  {
   "cell_type": "markdown",
   "metadata": {},
   "source": [
    "### Example 3 (Create Tuple with Method 3)"
   ]
  },
  {
   "cell_type": "code",
   "execution_count": null,
   "metadata": {},
   "outputs": [],
   "source": [
    "# create empty tuple \n",
    "empty_tuple_1 = tuple()\n",
    "print(empty_tuple_1)"
   ]
  },
  {
   "cell_type": "markdown",
   "metadata": {},
   "source": [
    "### 2.2.13 Accessing Elements within Tuples"
   ]
  },
  {
   "cell_type": "markdown",
   "metadata": {},
   "source": [
    "__Overview:__\n",
    "- Each item within a tuple are referred to as __elements__ and they can easily be accessed (for example, if you want to extract the second element of a tuple\n",
    "- Similar to lists and strings, each element is assigned a number beginning with 0 \n",
    "- Both methods of indexing (single-indexing and multi-indexing by slicing) as outlined in section 2.2.5 are also applicable for tuples\n",
    "\n",
    "__Helpful Points:__\n",
    "1. Similar to lists and strings, tuples can only be indexed by `int` and not any other type (i.e. `bool`)\n",
    "2. The peculiar but helpful features of indexing-out-of-range are also present with tuples \n",
    "\n",
    "__Practice:__ Examples of accessing elements within tuples "
   ]
  },
  {
   "cell_type": "markdown",
   "metadata": {},
   "source": [
    "### Example 1 (Index Method 1):"
   ]
  },
  {
   "cell_type": "code",
   "execution_count": null,
   "metadata": {},
   "outputs": [],
   "source": [
    "my_tuple = \"Gordon\", 1.0, True\n",
    "# my_tuple_fwd_index = (0, 1, 2)"
   ]
  },
  {
   "cell_type": "code",
   "execution_count": null,
   "metadata": {},
   "outputs": [],
   "source": [
    "# oth element from the left (with and without saving tuple as a variable)\n",
    "print(my_tuple[0])\n",
    "print((\"Gordon\", 1.0, True)[0])\n",
    "type((\"Gordon\", 1.0, True)[0])"
   ]
  },
  {
   "cell_type": "markdown",
   "metadata": {},
   "source": [
    "### Example 2 (Index Method 2):"
   ]
  },
  {
   "cell_type": "code",
   "execution_count": null,
   "metadata": {},
   "outputs": [],
   "source": [
    "# slice from 0th element to 2nd element (3rd element minus one) by step 1 \n",
    "print(my_tuple[0:3])\n",
    "type(my_tuple[0:3])"
   ]
  },
  {
   "cell_type": "markdown",
   "metadata": {},
   "source": [
    "Note: not all types of examples are shown here with tuples since the process is identical to that of accessing elements within lists. If you want to refresh your memory, see section 2.2.5 and follow examples 1 - 6, but swap the list for a tuple. "
   ]
  },
  {
   "cell_type": "markdown",
   "metadata": {},
   "source": [
    "### 2.2.14 More Tuple Operations"
   ]
  },
  {
   "cell_type": "markdown",
   "metadata": {},
   "source": [
    "__Overview:__\n",
    "- Recall in section 2.2.2 the types of operations available for Sequence Types \n",
    "- Since the `tuple` type is immutable, we can only perform the Common Sequence Operations and NOT the Mutable Sequence Type Operations (like we did for lists)"
   ]
  },
  {
   "cell_type": "markdown",
   "metadata": {},
   "source": [
    "Note_1: Tuple operations using the Common Sequence Operations are not shown here since the process is identical to that of operating with lists. If you want to refresh your memory, see section 2.2.6 Part 1 (examples 1.1 - 1.5), but swap the list for a tuple. \n",
    "\n",
    "Note_2: The only operation different for Tuples than Lists is the sorting capabilities. Recall that lists can be sorted using the `list.sort()` function (performed __in-place__ by modifying the original object) AND using the `sorted()` function (not performed in-place and creates a copy of the object). Since Tuples are mutable, they are subject ONLY to the `sorted()` function. "
   ]
  },
  {
   "cell_type": "markdown",
   "metadata": {},
   "source": [
    "### 2.2.15 Packing and Unpacking with Tuples"
   ]
  },
  {
   "cell_type": "markdown",
   "metadata": {},
   "source": [
    "__Overview:__\n",
    "- One of the most important differences between tuple and lists (other than mutability) is the ability of tuples to participate in __packing__ and __unpacking__ which is very useful and \"Pythonic\" \n",
    "> 1. __Packing:__ Packing is a simple syntax which allows you to create a tuple without parantheses and elements just separated by commas (recall we did this in method 2 of creating tuples above)\n",
    "> 2. __Unpacking:__ Unpacking allows you to split apart the values within a tuple into separate variables \n",
    "\n",
    "__Helpful Points:__\n",
    "1. Packing and Unpacking feature makes operations concise and efficient in Python \n",
    "2. You can use the `*` (asterix) notiation in tuples for arbitrary arguments (see examples below)\n",
    "3. You can use the `_` (underscore) notation in tuples as placeholders \n",
    "4. Recall simultaneous assignments in lecture 1 - section 1.6 - example 2.2. This was actually a case of packing and unpacking at work!\n",
    "\n",
    "__Practice:__ Examples of Packing and Unpacking with Tuples in Python "
   ]
  },
  {
   "cell_type": "markdown",
   "metadata": {},
   "source": [
    "### Example 1 (Packing): "
   ]
  },
  {
   "cell_type": "code",
   "execution_count": null,
   "metadata": {},
   "outputs": [],
   "source": [
    "a = \"G\", \"o\", \"r\" # all 3 items are \"packed\" into the one variable a \n",
    "print(a)"
   ]
  },
  {
   "cell_type": "markdown",
   "metadata": {},
   "source": [
    "When packing, the output is a tuple."
   ]
  },
  {
   "cell_type": "markdown",
   "metadata": {},
   "source": [
    "### Example 2 (Unpacking):"
   ]
  },
  {
   "cell_type": "code",
   "execution_count": null,
   "metadata": {},
   "outputs": [],
   "source": [
    "first, second, third = a # the 3 items in the one variable a are \"unpacked\" and each assigned their own variable \n",
    "print(first)\n",
    "print(second)\n",
    "print(third)"
   ]
  },
  {
   "cell_type": "code",
   "execution_count": null,
   "metadata": {},
   "outputs": [],
   "source": [
    "# compare the above with a longer and uglier way\n",
    "first = a[0]\n",
    "second = a[1]\n",
    "third = a[2]\n",
    "print(first)\n",
    "print(second)\n",
    "print(third)"
   ]
  },
  {
   "cell_type": "markdown",
   "metadata": {},
   "source": [
    "### Example 3 (Packing and Unpacking - 1 step):"
   ]
  },
  {
   "cell_type": "code",
   "execution_count": null,
   "metadata": {},
   "outputs": [],
   "source": [
    "first, second, third = \"G\", \"o\", \"r\" # packing and unpacking in 1 step without the variable a"
   ]
  },
  {
   "cell_type": "markdown",
   "metadata": {},
   "source": [
    "The following sequence is happening here: First, the values \"G\", \"o\", \"r\" are packed into a tuple (\"G\", \"o\", \"r\"). These values are then assigned to the left hand side of the `=` sign. Lastly, the tuple is unpacked into the three variables `first`, `second`, and `third`. "
   ]
  },
  {
   "cell_type": "markdown",
   "metadata": {},
   "source": [
    "### Example 4 (Trading Values using Packing and Unpacking): "
   ]
  },
  {
   "cell_type": "code",
   "execution_count": null,
   "metadata": {},
   "outputs": [],
   "source": [
    "# we saw how to trade values in lecture 1 - this was actually packing and unpacking \n",
    "gordon_money = 10\n",
    "roberto_money = 100\n",
    "roberto_money, gordon_money = gordon_money, roberto_money\n",
    "print(roberto_money)\n",
    "print(gordon_money)"
   ]
  },
  {
   "cell_type": "markdown",
   "metadata": {},
   "source": [
    "The following sequence is happening here: First, the variables `gordon_money` and `roberto_money` are packed into a tuple (gordon_money, roberto_money). These values are then assigned to the left hand side of the `=` sign. Lastly, the tuple is unpacked into 2 variables `roberto_money` and `gordon_money`. "
   ]
  },
  {
   "cell_type": "markdown",
   "metadata": {},
   "source": [
    "### Example 5 (Placeholder Variable Name):"
   ]
  },
  {
   "cell_type": "code",
   "execution_count": null,
   "metadata": {},
   "outputs": [],
   "source": [
    "first, _, third = a\n",
    "print(first)\n",
    "print(_)\n",
    "print(third)"
   ]
  },
  {
   "cell_type": "markdown",
   "metadata": {},
   "source": [
    "### Example 6 (Arbitrary Arguments):"
   ]
  },
  {
   "cell_type": "code",
   "execution_count": null,
   "metadata": {},
   "outputs": [],
   "source": [
    "first, second, *last = \"G\", \"o\", \"r\", \"d\", \"o\", \"n\"\n",
    "print(first)\n",
    "print(second)\n",
    "print(last)"
   ]
  },
  {
   "cell_type": "markdown",
   "metadata": {},
   "source": [
    "When we see how to create functions in Lecture 3, arbitrary argumens will be very important so keep this style in mind."
   ]
  },
  {
   "cell_type": "markdown",
   "metadata": {},
   "source": [
    "### Problem 7:\n",
    "\n",
    "The end result is to have 2 variables (`latitude` and `longitude`) which will store your current latitude and longitude. To create these variables, use packing and unpacking as shown above. If you don't know your current latitude and longitude, type in your address or nearest landmark or city in the searchbar of [this link](https://mynasadata.larc.nasa.gov/latitudelongitude-finder/)\n",
    "\n",
    "Notes\n",
    "- Use string formatting to output your result \n",
    "- Do not just create 2 separate variables \n",
    "- It is inefficient (i.e. not \"Pythonic\") to just index a list to arrive at your result"
   ]
  },
  {
   "cell_type": "code",
   "execution_count": null,
   "metadata": {},
   "outputs": [],
   "source": [
    "# Write your code here\n",
    "\n",
    "\n",
    "\n"
   ]
  },
  {
   "cell_type": "markdown",
   "metadata": {},
   "source": [
    "### 2.2.16 Overview of Sequence Type 4 - Range"
   ]
  },
  {
   "cell_type": "markdown",
   "metadata": {},
   "source": [
    "__Overview:__\n",
    "- __[Range](https://docs.python.org/3/library/stdtypes.html#range):__ Range type is an immutable sequence of numbers \n",
    "- The range type has 3 arguments (similar to a slice): `start`, `stop`, and `step`\n",
    "\n",
    "__Helpful Points:__\n",
    "1. Range types are most commonly used for looping a specific number of times in `for` loops (see lecture 3 for detailed explanation of loops)\n",
    "2. Range types are advantageous over a regular `list` or `tuple` since a `range` object will always take the same, small amount of memory in your computer, no matter the size of the range it represents (i.e. a range of 5 numbers will take the same amount of memory as a range of 5M numbers)\n",
    "3. The range object only stores the `start`, `stop`, and `step` values in memory and then calculates the individual items as needed "
   ]
  },
  {
   "cell_type": "markdown",
   "metadata": {},
   "source": [
    "### 2.2.17 Creating Ranges"
   ]
  },
  {
   "cell_type": "markdown",
   "metadata": {},
   "source": [
    "__Overview:__\n",
    "- A `range` object can be created only one way with the general format of `start`, `stop`, and `step`\n",
    "\n",
    "__Helpful Points:__\n",
    "1. Similar to slices, some of the arguments in the range may be ommitted (i.e. `start` defaults to 0, if not provided)\n",
    "2. We will see below that when printing a range, we are unable to see the actual numbers. To see the sequence of numbers, we have to convert the `range` type to a `list`\n",
    "\n",
    "__Practice:__ Examples of creating ranges in Python "
   ]
  },
  {
   "cell_type": "markdown",
   "metadata": {},
   "source": [
    "### Example 1 (Creating `range` with `stop` only):"
   ]
  },
  {
   "cell_type": "code",
   "execution_count": null,
   "metadata": {},
   "outputs": [],
   "source": [
    "range(10)\n",
    "range(1000)"
   ]
  },
  {
   "cell_type": "code",
   "execution_count": null,
   "metadata": {},
   "outputs": [],
   "source": [
    "list(range(10))"
   ]
  },
  {
   "cell_type": "code",
   "execution_count": null,
   "metadata": {},
   "outputs": [],
   "source": [
    "print(range(10)) # this really means range(0, 10, 1)"
   ]
  },
  {
   "cell_type": "code",
   "execution_count": null,
   "metadata": {},
   "outputs": [],
   "source": [
    "print(list(range(10)))"
   ]
  },
  {
   "cell_type": "code",
   "execution_count": null,
   "metadata": {},
   "outputs": [],
   "source": [
    "list(range(1,10))"
   ]
  },
  {
   "cell_type": "code",
   "execution_count": null,
   "metadata": {},
   "outputs": [],
   "source": [
    "# perform an action 10 times \n",
    "for i in range(10):\n",
    "    print(i)"
   ]
  },
  {
   "cell_type": "markdown",
   "metadata": {},
   "source": [
    "### Example 2 (Creating `range` with `start` and `stop` only):"
   ]
  },
  {
   "cell_type": "code",
   "execution_count": null,
   "metadata": {},
   "outputs": [],
   "source": [
    "print(range(1,10)) # this really means range(1, 10, 1)"
   ]
  },
  {
   "cell_type": "code",
   "execution_count": null,
   "metadata": {},
   "outputs": [],
   "source": [
    "print(list(range(1,10)))"
   ]
  },
  {
   "cell_type": "markdown",
   "metadata": {},
   "source": [
    "### Example 3 (Creating `range` with `start`, `stop`, and `step`):"
   ]
  },
  {
   "cell_type": "code",
   "execution_count": null,
   "metadata": {},
   "outputs": [],
   "source": [
    "print(range(0, 50, 5))"
   ]
  },
  {
   "cell_type": "code",
   "execution_count": null,
   "metadata": {},
   "outputs": [],
   "source": [
    "print(list(range(0, 50, 5)))"
   ]
  },
  {
   "cell_type": "markdown",
   "metadata": {},
   "source": [
    "### Example 4 (Creating `range` with negative `stop` and `step`):"
   ]
  },
  {
   "cell_type": "code",
   "execution_count": null,
   "metadata": {},
   "outputs": [],
   "source": [
    "print(list(range(5, -5, 1)))"
   ]
  },
  {
   "cell_type": "code",
   "execution_count": null,
   "metadata": {},
   "outputs": [],
   "source": [
    "print(list(range(5, -5, -1))) # if a negative step is used, the start must be greater than the stop "
   ]
  },
  {
   "cell_type": "markdown",
   "metadata": {},
   "source": [
    "### 2.2.18 Accessing Elements within Ranges"
   ]
  },
  {
   "cell_type": "markdown",
   "metadata": {},
   "source": [
    "__Overview:__\n",
    "- Each item within a range are referred to as __elements__ and they can easily be accessed (for example, if you want to extract the second element of a range)\n",
    "- Similar to lists, strings, and tuples, each element is assigned a number beginning with 0 \n",
    "- Both methods of indexing (single-indexing and multi-indexing by slicing) as outlined in section 2.2.5 are also applicable for range \n",
    "\n",
    "__Helpful Points:__\n",
    "1. Similar to lists, strings, and tuples, range can only be indexed by `int` and not any other type (i.e. `bool`)\n",
    "2. The peculiar but helpful features of indexing-out-of-range are also present with range \n",
    "\n",
    "__Practice:__ Examples of accessing elements within ranges "
   ]
  },
  {
   "cell_type": "markdown",
   "metadata": {},
   "source": [
    "### Example 1 (Index Method 1):"
   ]
  },
  {
   "cell_type": "code",
   "execution_count": null,
   "metadata": {},
   "outputs": [],
   "source": [
    "my_range = range(10)\n",
    "print(my_range)\n",
    "print(list(my_range))"
   ]
  },
  {
   "cell_type": "code",
   "execution_count": null,
   "metadata": {},
   "outputs": [],
   "source": [
    "# 4th element from the left (with and without saving range as a variable)\n",
    "print(my_range[3])\n",
    "print(range(10)[3])\n",
    "type(range(10)[3])"
   ]
  },
  {
   "cell_type": "markdown",
   "metadata": {},
   "source": [
    "### Example 2 (Index Method 2):"
   ]
  },
  {
   "cell_type": "code",
   "execution_count": null,
   "metadata": {},
   "outputs": [],
   "source": [
    "# slice from 1st element to 4th element (5th element minus one) by step 1 \n",
    "print(my_range[1:5])\n",
    "type(my_range[1:5])"
   ]
  },
  {
   "cell_type": "markdown",
   "metadata": {},
   "source": [
    "Note: not all types of examples are shown here with ranges since the process is identical to that of accessing elements within the other sequence types. If you want to refresh your memory, see section 2.2.5 and follow examples 1 - 6, but swap the list for a range. "
   ]
  },
  {
   "cell_type": "markdown",
   "metadata": {},
   "source": [
    "### 2.2.19 More Range Operations"
   ]
  },
  {
   "cell_type": "markdown",
   "metadata": {},
   "source": [
    "__Overview:__\n",
    "- Recall in section 2.2.2 the types of operations available for Sequence Types \n",
    "- Since the `range` type is immutable, we can only perform the Common Sequence Operations and NOT the Mutable Sequence Type Operations (like we did for lists)\n",
    "- Ranges implement all the Common Sequence Operations EXCEPT concatenation and repetition (unlike lists, strings, and tuples - the other sequence types). The reason being is that range objects can only represent sequences that follow a strict pattern and when reptition/concatenation is performed, this pattern is compromised\n",
    "\n",
    "__Helpful Points:__\n",
    "1. Below, we will cover the Common Sequence Type Operations (membership test operations and misc. actions, but NOT repetition and concatenation)\n",
    "\n",
    "__Practice:__ Examples of String Operations in Python "
   ]
  },
  {
   "cell_type": "markdown",
   "metadata": {},
   "source": [
    "### Example 1.1 (Membership Test Operations):"
   ]
  },
  {
   "cell_type": "code",
   "execution_count": null,
   "metadata": {},
   "outputs": [],
   "source": [
    "my_range = range(0, 21, 3)\n",
    "print(my_range)"
   ]
  },
  {
   "cell_type": "code",
   "execution_count": null,
   "metadata": {},
   "outputs": [],
   "source": [
    "6 in my_range"
   ]
  },
  {
   "cell_type": "code",
   "execution_count": null,
   "metadata": {},
   "outputs": [],
   "source": [
    "10 in my_range"
   ]
  },
  {
   "cell_type": "code",
   "execution_count": null,
   "metadata": {
    "scrolled": true
   },
   "outputs": [],
   "source": [
    "10 not in my_range"
   ]
  },
  {
   "cell_type": "markdown",
   "metadata": {},
   "source": [
    "### Example 1.2 (Value Comparisons with Ranges):"
   ]
  },
  {
   "cell_type": "markdown",
   "metadata": {},
   "source": [
    "It is possible to test range objects for equality with the operators `==` and `!=`, however the objects are compared based on their sequences and NOT based on their object identities. Note, that two range objects may be equal, but have different `start`, `stop`, and `step` attributes (see below for example). "
   ]
  },
  {
   "cell_type": "code",
   "execution_count": null,
   "metadata": {},
   "outputs": [],
   "source": [
    "range_1 = range(0, 3, 2)\n",
    "print(list(range_1))\n",
    "range_2 = range(0, 4, 2)\n",
    "print(list(range_2))"
   ]
  },
  {
   "cell_type": "code",
   "execution_count": null,
   "metadata": {
    "scrolled": true
   },
   "outputs": [],
   "source": [
    "print(range_1 == range_2)"
   ]
  },
  {
   "cell_type": "code",
   "execution_count": null,
   "metadata": {},
   "outputs": [],
   "source": [
    "print(id(range_1))\n",
    "print(id(range_2))"
   ]
  },
  {
   "cell_type": "code",
   "execution_count": null,
   "metadata": {},
   "outputs": [],
   "source": [
    "print(range_1 is range_2)"
   ]
  },
  {
   "cell_type": "markdown",
   "metadata": {},
   "source": [
    "### Example 1.3 (Misc. Actions on Ranges):"
   ]
  },
  {
   "cell_type": "markdown",
   "metadata": {},
   "source": [
    "### Example 1.3.1 (Simple Actions - `len`, `min`, `max`, `index`, `count`):"
   ]
  },
  {
   "cell_type": "code",
   "execution_count": null,
   "metadata": {},
   "outputs": [],
   "source": [
    "my_range_1 = range(-1000, 1000, 10)\n",
    "print(my_range_1)"
   ]
  },
  {
   "cell_type": "code",
   "execution_count": null,
   "metadata": {},
   "outputs": [],
   "source": [
    "# find the length of the range (number of elements in the range)\n",
    "len(my_range_1)"
   ]
  },
  {
   "cell_type": "code",
   "execution_count": null,
   "metadata": {},
   "outputs": [],
   "source": [
    "# find the minimum value of the range (smallest number in the range)\n",
    "min(my_range_1)"
   ]
  },
  {
   "cell_type": "code",
   "execution_count": null,
   "metadata": {},
   "outputs": [],
   "source": [
    "# find the maximum value of the range (largest number in the range)\n",
    "max(my_range_1)"
   ]
  },
  {
   "cell_type": "code",
   "execution_count": null,
   "metadata": {},
   "outputs": [],
   "source": [
    "# find the index of the first occurrence of 100 in my_range_1\n",
    "my_range_1.index(100)"
   ]
  },
  {
   "cell_type": "code",
   "execution_count": null,
   "metadata": {},
   "outputs": [],
   "source": [
    "# find the total number of occurrences of 10 in my_string \n",
    "my_range_1.count(10)"
   ]
  },
  {
   "cell_type": "markdown",
   "metadata": {},
   "source": [
    "### Example 1.3.2 (Advanced Actions - `sort`):"
   ]
  },
  {
   "cell_type": "markdown",
   "metadata": {},
   "source": [
    "Since ranges are immutable, sorting ranges in Python can only be done 1 way - with the generic `sorted()` function which simply returns a copy of the object and does not attempty to modify the original range. "
   ]
  },
  {
   "cell_type": "code",
   "execution_count": null,
   "metadata": {},
   "outputs": [],
   "source": [
    "my_range = range(77, -77, -11)\n",
    "print(my_range)"
   ]
  },
  {
   "cell_type": "code",
   "execution_count": null,
   "metadata": {},
   "outputs": [],
   "source": [
    "# sort the range\n",
    "print(sorted(my_range))\n",
    "print(my_range)"
   ]
  },
  {
   "cell_type": "markdown",
   "metadata": {},
   "source": [
    "We can see that the `sorted()` function simply returned a copy of the original range, but in `list` form, but when we print the original range, it has not changed. This is an example of not in-place. "
   ]
  },
  {
   "cell_type": "markdown",
   "metadata": {},
   "source": [
    "### Problem 8:\n",
    "\n",
    "Create a `range` that goes from `500` to `5000` by steps of `250`. Check if `7550` is in our range. \n",
    "\n",
    "Notes\n",
    "- Convert your range to a list and print it to see all elements of your range "
   ]
  },
  {
   "cell_type": "code",
   "execution_count": null,
   "metadata": {},
   "outputs": [],
   "source": [
    "# Write your code here\n",
    "\n",
    "\n"
   ]
  },
  {
   "cell_type": "markdown",
   "metadata": {},
   "source": [
    "## 2.3 Set Types in Python "
   ]
  },
  {
   "cell_type": "markdown",
   "metadata": {},
   "source": [
    "### 2.3.1 What is a Set Type?"
   ]
  },
  {
   "cell_type": "markdown",
   "metadata": {},
   "source": [
    "__Overview:__\n",
    "- __[Set Type](https://docs.python.org/3/library/stdtypes.html#set-types-set-frozenset):__ The two Set Types in Python refer to `set` and `frozenset`, although we will only cover the `set` type in this basic class\n",
    "- Set Types in Python have the following characteristics:\n",
    "> - Set Types are unordered (each element from left to right is NOT assigned a number - this disables our ability to index (find) elements within a set type)\n",
    "> - Set Types have to contain only unique elements\n",
    "> - Set Types can be mutable or immutable \n",
    "\n",
    "__Helpful Points:__ \n",
    "1. The term \"set\" in the Set Type is chosen because the type resembles the term [\"set\"](https://en.wikipedia.org/wiki/Set_(mathematics) in mathematics "
   ]
  },
  {
   "cell_type": "code",
   "execution_count": null,
   "metadata": {},
   "outputs": [],
   "source": [
    "my_list = [1,1,2,3,3] \n",
    "\n",
    "# find only the distinct elements of my_list\n",
    "\n",
    "# convert my_list (of list type) to a set type "
   ]
  },
  {
   "cell_type": "markdown",
   "metadata": {},
   "source": [
    "### 2.3.2 Set Type Operations"
   ]
  },
  {
   "cell_type": "markdown",
   "metadata": {},
   "source": [
    "__Overview:__\n",
    "- Since Set Types are unordered (they are not sequences), they are NOT subject to the Common Sequence Operations (with some exceptions) that we have used for strings, lists, tuples and ranges \n",
    "- However, there exists an equivalent list of operations that are possible for set types (both `set` and `frozenset`) which include some of the Common Sequence Operations\n",
    "- Depending on if the Set Type is mutable or immutable, it is subject to a different set of operations:\n",
    "> 1. __Mutable Set Type (`set`)__: Mutable Set Type can be operated on using the __common set operations__ AND the __mutable set type operations__\n",
    "> 2. __Immutable Set Type (`frozenset`)__: Immutable Set Type can be operated on using ONLY the __common set operations__"
   ]
  },
  {
   "cell_type": "markdown",
   "metadata": {},
   "source": [
    "- The __common set operations__ can be grouped together into the following categories:\n",
    "> 1. Membership Test Operations\n",
    "> 2. Value Comparisons \n",
    "> 3. Mathematical Operations (i.e. intersection, union, difference, symmetric difference, etc.) \n",
    "> 4. Other operations (removing duplicates from other types, len, copy)"
   ]
  },
  {
   "cell_type": "markdown",
   "metadata": {},
   "source": [
    "- The __mutable set type operations__ can be grouped together into the following categories:\n",
    ">1. Updating elements \n",
    ">2. Adding elements \n",
    ">3. Removing elements "
   ]
  },
  {
   "cell_type": "markdown",
   "metadata": {},
   "source": [
    "__Helpful Points:__\n",
    "1. We will only explore the set operations of `set` not `frozenset`"
   ]
  },
  {
   "cell_type": "markdown",
   "metadata": {},
   "source": [
    "### 2.3.3 Overview of Set Type 1 - `set`"
   ]
  },
  {
   "cell_type": "markdown",
   "metadata": {},
   "source": [
    "__Overview:__\n",
    "- __[set](https://docs.python.org/3/library/stdtypes.html#set):__ Sets are mutable objects that are used to store distinct elements\n",
    "\n",
    "__Helpful Points:__\n",
    "1. Sets are defined by curly brackets `{` and `}`\n",
    "2. Each element in a set is separated by a comma "
   ]
  },
  {
   "cell_type": "markdown",
   "metadata": {},
   "source": [
    "### 2.3.4 Creating Sets"
   ]
  },
  {
   "cell_type": "markdown",
   "metadata": {},
   "source": [
    "__Overview:__\n",
    "- There are two ways to create a set in Python:\n",
    "1. Method 1: Using a pair of curly brackets with at least one element inside the curly brackets \n",
    "2. Method 2: Using the __Type Constructor__\n",
    "\n",
    "__Helpful Points:__\n",
    "1. Similar to lists, tuples, and strings, it is also possible to create a set within a set also known as a __Nested Set__ \n",
    "2. Be careful when initializing a new set that you enter at least one element inside the curly brackets, otherwise the interpreter will understand the command as initializing a dictionary (explained below)\n",
    "\n",
    "__Practice:__ Examples of creating sets in Python "
   ]
  },
  {
   "cell_type": "markdown",
   "metadata": {},
   "source": [
    "### Example 1 (Create Set with Method 1)"
   ]
  },
  {
   "cell_type": "code",
   "execution_count": null,
   "metadata": {},
   "outputs": [],
   "source": [
    "set_1 = {}\n",
    "print(set_1)\n",
    "type(set_1)"
   ]
  },
  {
   "cell_type": "markdown",
   "metadata": {},
   "source": [
    "Note if you don't include an element within the curly brackets, you are actually creating a `dict` type (dictionary)"
   ]
  },
  {
   "cell_type": "code",
   "execution_count": null,
   "metadata": {},
   "outputs": [],
   "source": [
    "set_2 = {1,2,3,4,5,5}\n",
    "print(set_2)\n",
    "type(set_2)"
   ]
  },
  {
   "cell_type": "markdown",
   "metadata": {},
   "source": [
    "### Example 2 (Create Set with Method 2)"
   ]
  },
  {
   "cell_type": "code",
   "execution_count": null,
   "metadata": {},
   "outputs": [],
   "source": [
    "set_2 = set()\n",
    "print(set_2)\n",
    "type(set_2)"
   ]
  },
  {
   "cell_type": "markdown",
   "metadata": {},
   "source": [
    "### 2.3.5 Accessing Elements within Sets"
   ]
  },
  {
   "cell_type": "markdown",
   "metadata": {},
   "source": [
    "- Remember that Set Types are __unordered__ which means their elements do not have an implicit number attached to them and therefore can NOT be accessed\n",
    "- This means we can not perform any indexing or slicing on sets "
   ]
  },
  {
   "cell_type": "code",
   "execution_count": null,
   "metadata": {},
   "outputs": [],
   "source": [
    "my_set = {1,2,3}\n",
    "my_set[0]"
   ]
  },
  {
   "cell_type": "markdown",
   "metadata": {},
   "source": [
    "### 2.3.6 More Set Operations"
   ]
  },
  {
   "cell_type": "markdown",
   "metadata": {},
   "source": [
    "__Overview:__\n",
    "- Recall in section 2.3.3 the types of operations available for Set Types \n",
    "- Since the `set` type is mutable (unlike the `frozenset` type which is not covered in this course), we can perform both the common set operations and the mutable set type operations \n",
    "\n",
    "__Helpful Points:__\n",
    "1. Below, Part 1 will cover the common set operations\n",
    "2. Below, Part 2 will cover the mutable set type operations \n",
    "\n",
    "__Practice:__ Examples of Set Operations in Python "
   ]
  },
  {
   "cell_type": "markdown",
   "metadata": {},
   "source": [
    "### Part 1: Common Set Operations"
   ]
  },
  {
   "cell_type": "markdown",
   "metadata": {},
   "source": [
    "### Example 1.1 (Membership Tests):"
   ]
  },
  {
   "cell_type": "code",
   "execution_count": null,
   "metadata": {},
   "outputs": [],
   "source": [
    "my_set = (1, 5, \"True\")\n",
    "print(my_set)"
   ]
  },
  {
   "cell_type": "code",
   "execution_count": null,
   "metadata": {},
   "outputs": [],
   "source": [
    "\"G\" in my_set"
   ]
  },
  {
   "cell_type": "code",
   "execution_count": null,
   "metadata": {},
   "outputs": [],
   "source": [
    "5 not in my_set"
   ]
  },
  {
   "cell_type": "markdown",
   "metadata": {},
   "source": [
    "### Example 1.2 (Value Comparisons):"
   ]
  },
  {
   "cell_type": "markdown",
   "metadata": {},
   "source": [
    "### Example 1.2.1 (Subset):"
   ]
  },
  {
   "cell_type": "code",
   "execution_count": null,
   "metadata": {},
   "outputs": [],
   "source": [
    "set_1 = {1, 2, 3, 4, 5}\n",
    "set_2 = {3, 4, 5, 6, 7}"
   ]
  },
  {
   "cell_type": "code",
   "execution_count": null,
   "metadata": {},
   "outputs": [],
   "source": [
    "set_1 <= set_2 # tests whether every element in set_1 is in set_2"
   ]
  },
  {
   "cell_type": "code",
   "execution_count": null,
   "metadata": {},
   "outputs": [],
   "source": [
    "set_1.issubset(set_2)"
   ]
  },
  {
   "cell_type": "markdown",
   "metadata": {},
   "source": [
    "### Example 1.2.2 (Proper Subset):"
   ]
  },
  {
   "cell_type": "code",
   "execution_count": null,
   "metadata": {},
   "outputs": [],
   "source": [
    "set_a = {1, 2, 3, 4, 5}\n",
    "set_b = {1, 2, 3, 4, 5}"
   ]
  },
  {
   "cell_type": "code",
   "execution_count": null,
   "metadata": {},
   "outputs": [],
   "source": [
    "set_a <= set_b # tests whether every element in set_a is in set_b"
   ]
  },
  {
   "cell_type": "code",
   "execution_count": null,
   "metadata": {},
   "outputs": [],
   "source": [
    "set_a < set_b # tests whether set_a <= set_b and set_a != set_b"
   ]
  },
  {
   "cell_type": "markdown",
   "metadata": {},
   "source": [
    "We can see that `set_a` is a subset of `set_b` but NOT a strict/proper subset of `set_b`"
   ]
  },
  {
   "cell_type": "markdown",
   "metadata": {},
   "source": [
    "### Example 1.2.3 (Superset):"
   ]
  },
  {
   "cell_type": "code",
   "execution_count": null,
   "metadata": {},
   "outputs": [],
   "source": [
    "set_1 = {1, 2, 3, 4, 5}\n",
    "set_2 = {3, 4, 5, 6, 7}"
   ]
  },
  {
   "cell_type": "code",
   "execution_count": null,
   "metadata": {},
   "outputs": [],
   "source": [
    "set_1 >= set_2 # tests whether every element in set_2 is in set_1 "
   ]
  },
  {
   "cell_type": "code",
   "execution_count": null,
   "metadata": {},
   "outputs": [],
   "source": [
    "set_1.issuperset(set_2)"
   ]
  },
  {
   "cell_type": "markdown",
   "metadata": {},
   "source": [
    "### Example 1.2.4 (Proper Superset):"
   ]
  },
  {
   "cell_type": "code",
   "execution_count": null,
   "metadata": {},
   "outputs": [],
   "source": [
    "set_a = {1, 2, 3, 4, 5}\n",
    "set_b = {1, 2, 3, 4, 5}"
   ]
  },
  {
   "cell_type": "code",
   "execution_count": null,
   "metadata": {},
   "outputs": [],
   "source": [
    "set_a >= set_b # tests whether every element in set_b is in set_a"
   ]
  },
  {
   "cell_type": "code",
   "execution_count": null,
   "metadata": {},
   "outputs": [],
   "source": [
    "set_a > set_b # tests whether set_a >= set_b and set_a != set_b"
   ]
  },
  {
   "cell_type": "markdown",
   "metadata": {},
   "source": [
    "We can see that `set_a` is a superset of `set_b` but NOT  strict/proper superset of `set_b`"
   ]
  },
  {
   "cell_type": "markdown",
   "metadata": {},
   "source": [
    "### Example 1.3 (Mathematical Operations) (BONUS):"
   ]
  },
  {
   "cell_type": "markdown",
   "metadata": {},
   "source": [
    "### Example 1.3.1 (Union)"
   ]
  },
  {
   "cell_type": "code",
   "execution_count": null,
   "metadata": {},
   "outputs": [],
   "source": [
    "set_1 = {1, 2, 3, 4, 5}\n",
    "set_2 = {3, 4, 5, 6, 7}"
   ]
  },
  {
   "cell_type": "code",
   "execution_count": null,
   "metadata": {},
   "outputs": [],
   "source": [
    "set_1.union(set_2) # returns a new set with elements from set_1 and set_2 "
   ]
  },
  {
   "cell_type": "code",
   "execution_count": null,
   "metadata": {},
   "outputs": [],
   "source": [
    "set_1 | set_2 # bitwise OR "
   ]
  },
  {
   "cell_type": "markdown",
   "metadata": {},
   "source": [
    "### Example 1.3.2 (Intersection):"
   ]
  },
  {
   "cell_type": "code",
   "execution_count": null,
   "metadata": {
    "scrolled": true
   },
   "outputs": [],
   "source": [
    "set_1.intersection(set_2) # returns a new set with elements common to set_1 and set_2 "
   ]
  },
  {
   "cell_type": "code",
   "execution_count": null,
   "metadata": {},
   "outputs": [],
   "source": [
    "set_1 & set_2 # bitwise AND "
   ]
  },
  {
   "cell_type": "markdown",
   "metadata": {},
   "source": [
    "### Example 1.3.3 (Difference):"
   ]
  },
  {
   "cell_type": "code",
   "execution_count": null,
   "metadata": {},
   "outputs": [],
   "source": [
    "set_1.difference(set_2) # returns a new set with elements in set_1 that are not in set_2"
   ]
  },
  {
   "cell_type": "code",
   "execution_count": null,
   "metadata": {},
   "outputs": [],
   "source": [
    "set_1 - set_2"
   ]
  },
  {
   "cell_type": "markdown",
   "metadata": {},
   "source": [
    "### Example 1.3.4 (Symmetric Difference):"
   ]
  },
  {
   "cell_type": "code",
   "execution_count": null,
   "metadata": {},
   "outputs": [],
   "source": [
    "set_1.symmetric_difference(set_2) # returns a new set with elements in either set_1 or set_2, but not both "
   ]
  },
  {
   "cell_type": "code",
   "execution_count": null,
   "metadata": {
    "scrolled": true
   },
   "outputs": [],
   "source": [
    "set_1 ^ set_2 # bitwise XOR "
   ]
  },
  {
   "cell_type": "markdown",
   "metadata": {},
   "source": [
    "### Example 1.3.5 (Disjoint):"
   ]
  },
  {
   "cell_type": "code",
   "execution_count": null,
   "metadata": {},
   "outputs": [],
   "source": [
    "set_1.isdisjoint(set_2) # returns true if set_1 has no elements in common with set_2 (intersection is the empty set)"
   ]
  },
  {
   "cell_type": "markdown",
   "metadata": {},
   "source": [
    "### Example 1.4 (Other Operations):"
   ]
  },
  {
   "cell_type": "markdown",
   "metadata": {},
   "source": [
    "### Example 1.4.1 (Remove Duplicates):"
   ]
  },
  {
   "cell_type": "code",
   "execution_count": null,
   "metadata": {},
   "outputs": [],
   "source": [
    "dup_list = [\"G\", \"G\", \"O\", \"R\", \"D\", \"O\", \"O\", \"N\"]\n",
    "print(dup_list)"
   ]
  },
  {
   "cell_type": "code",
   "execution_count": null,
   "metadata": {},
   "outputs": [],
   "source": [
    "set(dup_list) # remove duplicates from a list in one line of code "
   ]
  },
  {
   "cell_type": "code",
   "execution_count": null,
   "metadata": {},
   "outputs": [],
   "source": [
    "# remove duplicates from a list using set\n",
    "\n",
    "dup_list_1 = set(dup_list)\n",
    "dup_list_2 = list(dup_list_1)\n",
    "print(dup_list_1)\n",
    "print(dup_list_2)"
   ]
  },
  {
   "cell_type": "markdown",
   "metadata": {},
   "source": [
    "### Example 1.4.2 (Length):"
   ]
  },
  {
   "cell_type": "code",
   "execution_count": null,
   "metadata": {},
   "outputs": [],
   "source": [
    "set_1 = {1, 2, 3, 4, 5}"
   ]
  },
  {
   "cell_type": "code",
   "execution_count": null,
   "metadata": {},
   "outputs": [],
   "source": [
    "len(set_1)"
   ]
  },
  {
   "cell_type": "markdown",
   "metadata": {},
   "source": [
    "### Example 1.4.3 (Copy):"
   ]
  },
  {
   "cell_type": "code",
   "execution_count": null,
   "metadata": {},
   "outputs": [],
   "source": [
    "set_1_copy = set_1.copy() # returns a new set with a shallow copy of set_1 \n",
    "print(set_1)"
   ]
  },
  {
   "cell_type": "markdown",
   "metadata": {},
   "source": [
    "### Part 2: Mutable Set Type Operations"
   ]
  },
  {
   "cell_type": "markdown",
   "metadata": {},
   "source": [
    "### Example 2.1 (Updating Elements):"
   ]
  },
  {
   "cell_type": "code",
   "execution_count": null,
   "metadata": {},
   "outputs": [],
   "source": [
    "my_list = [1,2,3]\n",
    "my_list[0] = 5\n",
    "print(my_list)"
   ]
  },
  {
   "cell_type": "code",
   "execution_count": null,
   "metadata": {},
   "outputs": [],
   "source": [
    "set_1 = {1, 2, 3, 4, 5}\n",
    "set_1[0] = 1\n",
    "set_2 = {3, 4, 5, 6, 7}"
   ]
  },
  {
   "cell_type": "code",
   "execution_count": null,
   "metadata": {},
   "outputs": [],
   "source": [
    "set_1.update(set_2) # update set_1, adding elements from set_2 \n",
    "print(set_1)"
   ]
  },
  {
   "cell_type": "markdown",
   "metadata": {},
   "source": [
    "We can also perform `intersection_update`, `difference_update`, and `symmetric_difference_update` - see the documentation"
   ]
  },
  {
   "cell_type": "markdown",
   "metadata": {},
   "source": [
    "### Example 2.2 (Adding Elements):"
   ]
  },
  {
   "cell_type": "code",
   "execution_count": null,
   "metadata": {},
   "outputs": [],
   "source": [
    "set_1 = {1, 2, 3, 4, 5}"
   ]
  },
  {
   "cell_type": "code",
   "execution_count": null,
   "metadata": {},
   "outputs": [],
   "source": [
    "# add an element that is not already in the set \n",
    "set_1.add(6)\n",
    "print(set_1)"
   ]
  },
  {
   "cell_type": "code",
   "execution_count": null,
   "metadata": {},
   "outputs": [],
   "source": [
    "# add an element that is already in the set\n",
    "set_1.add(5)\n",
    "print(set_1)"
   ]
  },
  {
   "cell_type": "markdown",
   "metadata": {},
   "source": [
    "### Example 2.3 (Removing Elements):"
   ]
  },
  {
   "cell_type": "code",
   "execution_count": null,
   "metadata": {},
   "outputs": [],
   "source": [
    "set_1.remove(1) \n",
    "print(set_1)"
   ]
  },
  {
   "cell_type": "code",
   "execution_count": null,
   "metadata": {},
   "outputs": [],
   "source": [
    "set_1.remove(10) # raises an error if the element you are trying to add is not in the set "
   ]
  },
  {
   "cell_type": "code",
   "execution_count": null,
   "metadata": {},
   "outputs": [],
   "source": [
    "set_1.discard(2)\n",
    "print(set_1)"
   ]
  },
  {
   "cell_type": "code",
   "execution_count": null,
   "metadata": {},
   "outputs": [],
   "source": [
    "set_1.discard(10) # does not raise an error if the element you are trying to add is not in the set \n",
    "print(set_1)"
   ]
  },
  {
   "cell_type": "code",
   "execution_count": null,
   "metadata": {},
   "outputs": [],
   "source": [
    "set_1.clear() # removes all elements from the set \n",
    "print(set_1)"
   ]
  },
  {
   "cell_type": "markdown",
   "metadata": {},
   "source": [
    "### 2.4 Mapping Types in Python "
   ]
  },
  {
   "cell_type": "markdown",
   "metadata": {},
   "source": [
    "### 2.4.1 What is a Mapping Type?"
   ]
  },
  {
   "cell_type": "markdown",
   "metadata": {},
   "source": [
    "__Overview:__\n",
    "- __[Mapping Type](https://docs.python.org/3/library/stdtypes.html#mapping-types-dict):__ The only Mapping Type in Python is the dictionary (`dict` type)\n",
    "- Mapping Types map (connect) values to objects (this will become clear below) \n",
    "- Mapping Types in Python have the following characteristics:\n",
    "> - Mapping Types are unordered (each element from left to right is NOT assigned a number - this disables our ability to use integer indexing to index (find) elements within a mapping type)\n",
    "> - Mapping Types are mutable \n",
    "\n",
    "__Helpful Points:__ \n",
    "1. Mapping Type is used very commonly in Python so get used to the format and its characteristics\n",
    "2. Although Mapping Type is unordered, there are still ways of accessing/indexing elements (but these ways are different than the integer indexing that existed for the Sequence Type)"
   ]
  },
  {
   "cell_type": "markdown",
   "metadata": {},
   "source": [
    "### 2.4.2 Common Operations of the Mapping Type"
   ]
  },
  {
   "cell_type": "markdown",
   "metadata": {},
   "source": [
    "- Since Mapping Types are unordered (they are not sequences), they are NOT subject to the Common Sequence Operations (with some exceptions) that we have used for strings, lists, tuples and ranges\n",
    "- However, there exists an equivalent list of operations (__common mapping type operations__) that are possible for the mapping type (`dict`) which include some of the Common Sequence Operations\n",
    "- Since Mapping Type is mutable, it is also subject to a list of __mutable mapping type operations__"
   ]
  },
  {
   "cell_type": "markdown",
   "metadata": {},
   "source": [
    "- The __common mapping type operations__ can be grouped together into the following categories:\n",
    "> 1. Membership Test Operations\n",
    "> 2. Other operations (len, copy)"
   ]
  },
  {
   "cell_type": "markdown",
   "metadata": {},
   "source": [
    "- The __mutable mapping type operations__ can be grouped together into the following categories:\n",
    "> 1. Changing elements\n",
    "> 2. Adding elements\n",
    "> 3. Removing elements "
   ]
  },
  {
   "cell_type": "markdown",
   "metadata": {},
   "source": [
    "__Helpful Points:__ \n",
    "1. Since Mapping Types do not record element position or order of insertion, they do not suppoert sequence-like behavior"
   ]
  },
  {
   "cell_type": "markdown",
   "metadata": {},
   "source": [
    "### 2.4.3 Overview of Mapping Type 1 - `dict`"
   ]
  },
  {
   "cell_type": "markdown",
   "metadata": {},
   "source": [
    "__Overview:__\n",
    "- __`dict`__: Dictionaries are mutable objects that are used to store a collection of key-value pairs\n",
    "- key-value pairs will be discussed below, but you can think of this as the `key` being the descriptor and the `value` being what is being described. The `key` does not have to be an integer which will be very useful \n",
    "\n",
    "__Helpful Points:__\n",
    "1. Dictionaries are defined by curly brackets `{` and `}` (similar to sets) \n",
    "2. Each item (key-value pair) in a dictionary is separated by a comma \n",
    "3. Keys and values are separated by a colon (:) as such `key:value`\n",
    "4. Keys can be of different types, but they have to be __immutable__ (`int`, `float`, `str`, `tuple`)\n",
    "5. Dictionaries can be used to make programming in Python more efficient "
   ]
  },
  {
   "cell_type": "markdown",
   "metadata": {},
   "source": [
    "### 2.4.4 Creating Dictionaries "
   ]
  },
  {
   "cell_type": "markdown",
   "metadata": {},
   "source": [
    "__Overview:__\n",
    "- There are multiple ways to create a Dictionary in Python:\n",
    "> 1. Method 1: Using a pair of curly brackets to denote the empty dictionary (remember we couldn't use this in a set because it was reserved for dictionary use)\n",
    "> 2. Method 2: Using curly brackets, separating items (key-value pairs) with commas \n",
    "> 3. Method 3: Using the __Type Constructor__ with no contents to denote empty dictionary \n",
    "> 4. Method 4: Using the __Type Constructor__ with a list that contains tuples as items where each tuple is a key-value pair \n",
    "> 5. Method 5: Using the __Type Constructor__ with no enclosing and key-item pairs being assigned as variables \n",
    "> 6. Method 6: Using the __Type Constructor__ with curly brackets, separating items (key-value pairs) with commas \n",
    "\n",
    "__Helpful Points:__\n",
    "1. It is also possible to create a dictionary within a dictionary also known as a __Nested Dictionary__ \n",
    "\n",
    "__Practice:__ Examples of creating dictionaries in Python "
   ]
  },
  {
   "cell_type": "markdown",
   "metadata": {},
   "source": [
    "### Example 1 (Create Dictionary with Method 1)"
   ]
  },
  {
   "cell_type": "code",
   "execution_count": null,
   "metadata": {},
   "outputs": [],
   "source": [
    "empty_dict = {}\n",
    "print(empty_dict)\n",
    "type(empty_dict)"
   ]
  },
  {
   "cell_type": "markdown",
   "metadata": {},
   "source": [
    "### Example 2 (Create Dictionary with Method 2)"
   ]
  },
  {
   "cell_type": "code",
   "execution_count": null,
   "metadata": {},
   "outputs": [],
   "source": [
    "non_empty_dict = {\"name\":\"Gordon\", \"course\":\"BPM\"}\n",
    "print(non_empty_dict)"
   ]
  },
  {
   "cell_type": "markdown",
   "metadata": {},
   "source": [
    "### Example 3 (Create Dictionary with Method 3)"
   ]
  },
  {
   "cell_type": "code",
   "execution_count": null,
   "metadata": {},
   "outputs": [],
   "source": [
    "empty_dict_1 = dict()\n",
    "print(empty_dict)\n",
    "type(empty_dict)"
   ]
  },
  {
   "cell_type": "markdown",
   "metadata": {},
   "source": [
    "### Example 4 (Create Dictionary with Method 4)"
   ]
  },
  {
   "cell_type": "code",
   "execution_count": null,
   "metadata": {},
   "outputs": [],
   "source": [
    "dict_4 = dict([(\"ten\",10), (\"nine\",9), (\"eight\",8)])\n",
    "print(dict_4)"
   ]
  },
  {
   "cell_type": "markdown",
   "metadata": {},
   "source": [
    "### Example 5 (Create Dictionary with Method 5)"
   ]
  },
  {
   "cell_type": "code",
   "execution_count": null,
   "metadata": {},
   "outputs": [],
   "source": [
    "dict_5 = dict(ten=10, nine=9, eight=8)\n",
    "print(dict_5)"
   ]
  },
  {
   "cell_type": "markdown",
   "metadata": {},
   "source": [
    "### Example 6 (Create Dictionary with Method 6)"
   ]
  },
  {
   "cell_type": "code",
   "execution_count": null,
   "metadata": {},
   "outputs": [],
   "source": [
    "dict_6 = dict({\"ten\":10, \"nine\":9, \"eight\":8})\n",
    "print(dict_6)"
   ]
  },
  {
   "cell_type": "markdown",
   "metadata": {},
   "source": [
    "The dictionaries created above all followed the same format: `key`:`value` and notice that `key` can be `str` type or `int` type (or any immutable type)."
   ]
  },
  {
   "cell_type": "markdown",
   "metadata": {},
   "source": [
    "### Example 7 (Create Dictionary with Lists)"
   ]
  },
  {
   "cell_type": "code",
   "execution_count": null,
   "metadata": {},
   "outputs": [],
   "source": [
    "dict_7 = {\"course designer\":[\"Gordon\", \"Roberto\"], \"course name\":\"BPM\"}\n",
    "print(dict_7)"
   ]
  },
  {
   "cell_type": "markdown",
   "metadata": {},
   "source": [
    "### Example 8 (Create Nested Dictionary)"
   ]
  },
  {
   "cell_type": "code",
   "execution_count": null,
   "metadata": {},
   "outputs": [],
   "source": [
    "dict_8 = {\"course designer\":[\"Gordon\", \"Roberto\"], \"course info\":{\"course code\":101, \"course name\":\"BPM\"}}\n",
    "print(dict_8)"
   ]
  },
  {
   "cell_type": "markdown",
   "metadata": {},
   "source": [
    "### 2.4.5 Accessing Elements within Dictionaries"
   ]
  },
  {
   "cell_type": "markdown",
   "metadata": {},
   "source": [
    "__Overview:__\n",
    "- Although Dictionaries are unordered and their elements can not be accessed using integer indexing, we are still able to retrieve keys, values and items using similar techniques\n",
    "\n",
    "__Helpful Points:__\n",
    "1. Key retrieval can be done both individually using indexing and in bulk using built-in functions\n",
    "2. Value retrieval can only be done in bulk using built-in functions\n",
    "3. Item retrieval can only be done in bulk using built-in functions \n",
    "\n",
    "__Practice:__ Examples of accessing elements within dictionaries"
   ]
  },
  {
   "cell_type": "markdown",
   "metadata": {},
   "source": [
    "### Example 1 (Accessing Keys - Individually)"
   ]
  },
  {
   "cell_type": "code",
   "execution_count": null,
   "metadata": {},
   "outputs": [],
   "source": [
    "my_dict = {\"co_designer_1\":\"Gordon\", \"co_designer_2\":\"Roberto\", \"course_number\":101}\n",
    "print(my_dict)"
   ]
  },
  {
   "cell_type": "code",
   "execution_count": null,
   "metadata": {},
   "outputs": [],
   "source": [
    "my_dict[\"co_designer_1\"] # returns the item of my_dict with key \"co_designer_1\""
   ]
  },
  {
   "cell_type": "code",
   "execution_count": null,
   "metadata": {},
   "outputs": [],
   "source": [
    "my_dict[\"co_designer_3\"] # if the key is not the dictionary, raises an error "
   ]
  },
  {
   "cell_type": "code",
   "execution_count": null,
   "metadata": {},
   "outputs": [],
   "source": [
    "my_dict.get(\"co_designer_3\", \"No such key\") # avoid the possibility of error with the get function "
   ]
  },
  {
   "cell_type": "code",
   "execution_count": null,
   "metadata": {},
   "outputs": [],
   "source": [
    "# accessing keys when values are lists \n",
    "dict_7 = {\"course designer\":[\"Gordon\", \"Roberto\"], \"course name\":\"BPM\"}\n",
    "print(dict_7[\"course designer\"][0])"
   ]
  },
  {
   "cell_type": "code",
   "execution_count": null,
   "metadata": {},
   "outputs": [],
   "source": [
    "# accessing keys when values are dictionaries\n",
    "dict_8 = {\"course designer\":[\"Gordon\", \"Roberto\"], \"course info\":{\"course code\":101, \"course name\":\"BPM\"}}\n",
    "print(dict_8[\"course info\"][\"course code\"])"
   ]
  },
  {
   "cell_type": "markdown",
   "metadata": {},
   "source": [
    "### Example 2 (Accessing Keys - Bulk)"
   ]
  },
  {
   "cell_type": "code",
   "execution_count": null,
   "metadata": {
    "scrolled": true
   },
   "outputs": [],
   "source": [
    "print(my_dict.keys()) # returns a new view of the dictionary's items (refer to example 2.4.1 for a refresher on views)\n",
    "print(list(my_dict.keys()))"
   ]
  },
  {
   "cell_type": "markdown",
   "metadata": {},
   "source": [
    "### Example 3 (Accessing Values - Bulk)"
   ]
  },
  {
   "cell_type": "code",
   "execution_count": null,
   "metadata": {},
   "outputs": [],
   "source": [
    "print(my_dict.values()) # returns a new view of the dictionary's values \n",
    "print(list(my_dict.values()))"
   ]
  },
  {
   "cell_type": "markdown",
   "metadata": {},
   "source": [
    "### Example 4 (Accessing Items - Bulk)"
   ]
  },
  {
   "cell_type": "code",
   "execution_count": null,
   "metadata": {},
   "outputs": [],
   "source": [
    "print(my_dict.items()) # returns a new view of the dictionary's items \n",
    "print(list(my_dict.items()))"
   ]
  },
  {
   "cell_type": "markdown",
   "metadata": {},
   "source": [
    "### 2.4.6 More Dictionary Operations "
   ]
  },
  {
   "cell_type": "markdown",
   "metadata": {},
   "source": [
    "__Overview:__\n",
    "- Since the `dict` type is mutable, we can perform both the common mapping operations and the mutable mapping type operations\n",
    "\n",
    "__Helpful Points:__\n",
    "1. Below, Part 1 will cover the common mapping operations (membership test operations and other operations)\n",
    "2. Below, Part 2 will cover the mutable mapping type operations (changing elements, adding elements, and removing elements)\n",
    "\n",
    "__Practice:__ Examples of Dictionary Operations in Python "
   ]
  },
  {
   "cell_type": "markdown",
   "metadata": {},
   "source": [
    "### Part 1: Common mapping operations "
   ]
  },
  {
   "cell_type": "markdown",
   "metadata": {},
   "source": [
    "### Example 1.1 (Membership Test Operations):"
   ]
  },
  {
   "cell_type": "code",
   "execution_count": null,
   "metadata": {},
   "outputs": [],
   "source": [
    "my_dict = {\"co_designer_1\":\"Gordon\", \"co_designer_2\":\"Roberto\", \"course_number\":101}"
   ]
  },
  {
   "cell_type": "code",
   "execution_count": null,
   "metadata": {},
   "outputs": [],
   "source": [
    "\"co_designer_1\" in my_dict"
   ]
  },
  {
   "cell_type": "code",
   "execution_count": null,
   "metadata": {},
   "outputs": [],
   "source": [
    "\"co_deisgner_3\" not in my_dict"
   ]
  },
  {
   "cell_type": "markdown",
   "metadata": {},
   "source": [
    "Note membership test operations can only be done on the keys since individual values and items can not be accessed (see above)"
   ]
  },
  {
   "cell_type": "markdown",
   "metadata": {},
   "source": [
    "### Example 1.2 (Copy):"
   ]
  },
  {
   "cell_type": "code",
   "execution_count": null,
   "metadata": {},
   "outputs": [],
   "source": [
    "my_dict_copy = my_dict.copy() # return a shallow copy of the dictionary \n",
    "print(my_dict_copy)"
   ]
  },
  {
   "cell_type": "markdown",
   "metadata": {},
   "source": [
    "### Part 2: Mutable mapping type operations"
   ]
  },
  {
   "cell_type": "markdown",
   "metadata": {},
   "source": [
    "### Example 2.1 (Changing Elements):"
   ]
  },
  {
   "cell_type": "code",
   "execution_count": null,
   "metadata": {},
   "outputs": [],
   "source": [
    "my_dict = {\"co_designer_1\":\"Gordon\", \"co_designer_2\":\"Roberto\", \"course_number\":101}"
   ]
  },
  {
   "cell_type": "code",
   "execution_count": null,
   "metadata": {},
   "outputs": [],
   "source": [
    "my_dict[\"co_designer_1\"] = \"Gordon Dri\"\n",
    "print(my_dict)"
   ]
  },
  {
   "cell_type": "markdown",
   "metadata": {},
   "source": [
    "### Example 2.2 (Adding Elements):"
   ]
  },
  {
   "cell_type": "code",
   "execution_count": null,
   "metadata": {},
   "outputs": [],
   "source": [
    "my_dict[\"course_month\"] = \"May\" # adds new item if the key doesn't already exist \n",
    "print(my_dict)"
   ]
  },
  {
   "cell_type": "code",
   "execution_count": null,
   "metadata": {},
   "outputs": [],
   "source": [
    "my_dict = {\"co_designer_1\":\"Gordon\", \"co_designer_2\":\"Roberto\", \"course_number\":101}\n",
    "my_dict_new = {\"course_month\": \"May\", \"course_title\": \"BPM\"}\n",
    "my_dict.update(my_dict_new) # update the dictionary with the key/value pairs from my_dict_new\n",
    "print(my_dict)"
   ]
  },
  {
   "cell_type": "markdown",
   "metadata": {},
   "source": [
    "### Example 2.3 (Removing Elements):"
   ]
  },
  {
   "cell_type": "code",
   "execution_count": null,
   "metadata": {},
   "outputs": [],
   "source": [
    "my_dict = {\"co_designer_1\":\"Gordon\", \"co_designer_2\":\"Roberto\", \"course_number\":101}"
   ]
  },
  {
   "cell_type": "code",
   "execution_count": null,
   "metadata": {},
   "outputs": [],
   "source": [
    "del my_dict[\"co_designer_1\"]\n",
    "print(my_dict)"
   ]
  },
  {
   "cell_type": "code",
   "execution_count": null,
   "metadata": {},
   "outputs": [],
   "source": [
    "my_dict.clear()\n",
    "print(my_dict)"
   ]
  },
  {
   "cell_type": "markdown",
   "metadata": {},
   "source": [
    "### 2.4.7 Packing and Unpacking with Dictionaries (BONUS)"
   ]
  },
  {
   "cell_type": "markdown",
   "metadata": {},
   "source": [
    "__Overview:__\n",
    "- Recall in section 2.2.15, that tuples had the convenient feature of packing and unpacking. Well, dictionaries also share in this convenient feature \n",
    "\n",
    "__Helpful Points:__\n",
    "1. When we discuss functions and kewyword arguments in lecture 3, we will revisit this topic and you will appreciate the usefulness\n",
    "2. Unlike tuples where the `*` (asterix) notation was used to denote arbitrary arguments, dictionaries use the `**` (double asterix) notiation to denote arbitrary arguments\n",
    "\n",
    "__Practice:__ Examples of Packing and Unpacking with Dictionaries in Python "
   ]
  },
  {
   "cell_type": "markdown",
   "metadata": {},
   "source": [
    "### Example 1 (Packing and Unpacking - 1):"
   ]
  },
  {
   "cell_type": "code",
   "execution_count": null,
   "metadata": {
    "scrolled": true
   },
   "outputs": [],
   "source": [
    "my_dict = {'1':'one', '2':'two'}\n",
    "dict(**my_dict, six=6) # use the double asterix to unpack the my_dict variable  "
   ]
  },
  {
   "cell_type": "markdown",
   "metadata": {},
   "source": [
    "### Example 2 (Packing and Unpacking - 2):"
   ]
  },
  {
   "cell_type": "code",
   "execution_count": null,
   "metadata": {},
   "outputs": [],
   "source": [
    "my_dict = {'1':'one', '2':'two'}\n",
    "dict(**my_dict, three=3, **{'4':'four'}) # use the double asterix to unpack the my_dict variable and nested dict "
   ]
  },
  {
   "cell_type": "markdown",
   "metadata": {},
   "source": [
    "### Example 3 (Packing and Unpacking - 3):"
   ]
  },
  {
   "cell_type": "code",
   "execution_count": null,
   "metadata": {},
   "outputs": [],
   "source": [
    "{**{1: 'one', 2:'two'}, 3:'three'} # use the double asterix to unpack the nested dict "
   ]
  },
  {
   "cell_type": "markdown",
   "metadata": {},
   "source": [
    "### Problem 9\n",
    "\n",
    "Create a dictionary 3 different ways that contain key-value pairs corresponding to your city of birth, country of birth and current city. Add an element to any of the 3 dictionaries which contains your current country."
   ]
  },
  {
   "cell_type": "code",
   "execution_count": null,
   "metadata": {},
   "outputs": [],
   "source": [
    "# Write your code here\n",
    "\n",
    "\n",
    "\n"
   ]
  },
  {
   "cell_type": "markdown",
   "metadata": {},
   "source": [
    "### ANSWERS TO LECTURE 2 PROBLEMS:"
   ]
  },
  {
   "cell_type": "markdown",
   "metadata": {},
   "source": [
    "### Problem 1:\n",
    "\n",
    "Create a list and enter in the items `\"c\"`, `\"a\"`, `\"b\"`, `1`, `3`, `2` then reverse this list so it looks like `2`, `3`, ... Print your result.  \n",
    "\n",
    "- Use list slicing in your answer \n",
    "- Do not use any embedded functions in Python to reverse the list "
   ]
  },
  {
   "cell_type": "code",
   "execution_count": null,
   "metadata": {},
   "outputs": [],
   "source": [
    "my_list = [\"c\", \"a\", \"b\", 1, 3, 2]\n",
    "my_list_reversed = my_list[::-1]\n",
    "print(my_list_reversed)"
   ]
  },
  {
   "cell_type": "markdown",
   "metadata": {},
   "source": [
    "### Problem 2:\n",
    "\n",
    "Create a list and enter in the items `\"c\"`, `\"a\"`, `\"b\"`, `1`, `3`, `2` then use slicing to pull out the subset `[\"b\", 3]` ... Print your result.\n",
    "\n",
    "- Use list slicing in your answer  "
   ]
  },
  {
   "cell_type": "code",
   "execution_count": null,
   "metadata": {},
   "outputs": [],
   "source": [
    "my_list = [\"c\", \"a\", \"b\", 1, 3, 2]\n",
    "my_list_subset = my_list[2::2]\n",
    "print(my_list_subset)"
   ]
  },
  {
   "cell_type": "markdown",
   "metadata": {},
   "source": [
    "### Problem 3:\n",
    "\n",
    "Create 2 lists: the first list with your first name and the second list with your last name. Combine the two lists to make a list that contains your entire name. Repeat your name as many times as letters in your full name. \n",
    "\n",
    "Try adding your last name to your first name using both list concatenation and built-in functions."
   ]
  },
  {
   "cell_type": "code",
   "execution_count": null,
   "metadata": {},
   "outputs": [],
   "source": [
    "first_name = [\"G\", \"o\", \"r\", \"d\", \"o\", \"n\"]\n",
    "last_name = [\"D\", \"r\", \"i\"]"
   ]
  },
  {
   "cell_type": "code",
   "execution_count": null,
   "metadata": {},
   "outputs": [],
   "source": [
    "# method 1\n",
    "full_name_1 = first_name + last_name \n",
    "full_name_1"
   ]
  },
  {
   "cell_type": "code",
   "execution_count": null,
   "metadata": {},
   "outputs": [],
   "source": [
    "# method 2\n",
    "first_name[len(first_name):len(first_name)] = last_name\n",
    "first_name"
   ]
  },
  {
   "cell_type": "code",
   "execution_count": null,
   "metadata": {},
   "outputs": [],
   "source": [
    "# method 3\n",
    "first_name = [\"G\", \"o\", \"r\", \"d\", \"o\", \"n\"]\n",
    "first_name.extend(last_name)\n",
    "first_name"
   ]
  },
  {
   "cell_type": "code",
   "execution_count": null,
   "metadata": {
    "scrolled": true
   },
   "outputs": [],
   "source": [
    "print(full_name_1 * len(full_name_1)) # using method 1 "
   ]
  },
  {
   "cell_type": "markdown",
   "metadata": {},
   "source": [
    "### Problem 4:\n",
    "\n",
    "Create 2 lists: the first list with your first name and the second list with your last name. Combine the two lists to make a list that contains your entire name. Add your middle name to this combined list between your first and last name. If you don't have a middle name add `[\"m\", \"i\", \"d\", \"d\", \"l\", \"e\"]`."
   ]
  },
  {
   "cell_type": "code",
   "execution_count": null,
   "metadata": {},
   "outputs": [],
   "source": [
    "first_name = [\"G\", \"a\", \"r\", \"r\", \"e\", \"t\", \"t\"]\n",
    "last_name = [\"H\", \"o\", \"f\", \"f\", \"m\", \"a\", \"n\"]\n",
    "full_name = first_name + last_name \n",
    "\n",
    "middle = [\"L\", \"e\", \"e\"]\n",
    "full_name[len(first_name):len(first_name)] = middle\n",
    "full_name"
   ]
  },
  {
   "cell_type": "markdown",
   "metadata": {},
   "source": [
    "### Problem 5\n",
    "\n",
    "Repeat the first part of problem 2 (combining first and last name), but using strings.\n",
    "\n",
    "Notes:\n",
    "- Create the 2 strings in lower case and then use a built-in string method to capitalize the words (see [this link](https://docs.python.org/3/library/stdtypes.html#string-methods) to find the proper function to use)\n",
    "- Use string formatting to output your results"
   ]
  },
  {
   "cell_type": "code",
   "execution_count": null,
   "metadata": {},
   "outputs": [],
   "source": [
    "first_name = \"gordon\"\n",
    "last_name = \"dri\""
   ]
  },
  {
   "cell_type": "code",
   "execution_count": null,
   "metadata": {},
   "outputs": [],
   "source": [
    "first_name = first_name.capitalize()\n",
    "last_name = last_name.capitalize()"
   ]
  },
  {
   "cell_type": "code",
   "execution_count": null,
   "metadata": {},
   "outputs": [],
   "source": [
    "full_name = first_name + \" \" + last_name\n",
    "full_name"
   ]
  },
  {
   "cell_type": "code",
   "execution_count": null,
   "metadata": {},
   "outputs": [],
   "source": [
    "print(\"My full name is {}\".format(full_name))"
   ]
  },
  {
   "cell_type": "markdown",
   "metadata": {},
   "source": [
    "### Problem 6\n",
    "\n",
    "Replace `\"Brussels Sprouts\"` with your favorite food in the string `\"My favorite food is Brussels Sprouts\"`.\n",
    "\n",
    "Notes:\n",
    "- Use the `replace` commond string method"
   ]
  },
  {
   "cell_type": "code",
   "execution_count": null,
   "metadata": {},
   "outputs": [],
   "source": [
    "fav_food = \"My favorite food is Brussels Sprouts\"\n",
    "fav_food = fav_food.replace(\"Brussels Sprouts\", \"Pizza\")\n",
    "\n",
    "print(fav_food)"
   ]
  },
  {
   "cell_type": "markdown",
   "metadata": {},
   "source": [
    "### Problem 7:\n",
    "\n",
    "The end result is to have 2 variables (`latitude` and `longitude`) which will store your current latitude and longitude. To create these variables, use packing and unpacking as shown above. If you don't know your current latitude and longitude, type in your address or nearest landmark or city in the searchbar of [this link](https://mynasadata.larc.nasa.gov/latitudelongitude-finder/)\n",
    "\n",
    "Notes\n",
    "- Use string formatting to output your result \n",
    "- Do not just create 2 separate variables \n",
    "- It is inefficient (i.e. not \"Pythonic\") to just index a list to arrive at your result"
   ]
  },
  {
   "cell_type": "code",
   "execution_count": null,
   "metadata": {},
   "outputs": [],
   "source": [
    "my_coordinates = [41.889649, -87.622225]"
   ]
  },
  {
   "cell_type": "code",
   "execution_count": null,
   "metadata": {},
   "outputs": [],
   "source": [
    "# method 1 (inefficient and not Pythonic)\n",
    "latitude = my_coordinates[0]\n",
    "longitude = my_coordinates[1]"
   ]
  },
  {
   "cell_type": "code",
   "execution_count": null,
   "metadata": {},
   "outputs": [],
   "source": [
    "# method 1 (efficient and Pythonic)\n",
    "latitude, longitude = my_coordinates"
   ]
  },
  {
   "cell_type": "code",
   "execution_count": null,
   "metadata": {},
   "outputs": [],
   "source": [
    "print(\"My latitude is {} and my longitude is {}\".format(latitude, longitude))"
   ]
  },
  {
   "cell_type": "markdown",
   "metadata": {},
   "source": [
    "### Problem 8:\n",
    "\n",
    "Create a `range` that goes from `500` to `5000` by steps of `250`. Check if `7550` is in our range. \n",
    "\n",
    "Notes\n",
    "- Convert your range to a list and print it to see all elements of your range "
   ]
  },
  {
   "cell_type": "code",
   "execution_count": null,
   "metadata": {},
   "outputs": [],
   "source": [
    "my_range = range(500,5000,250)\n",
    "print(7750 in my_range)\n",
    "print(list(my_range))"
   ]
  },
  {
   "cell_type": "markdown",
   "metadata": {},
   "source": [
    "### Problem 9\n",
    "\n",
    "Create a dictionary 3 different ways that contain key-value pairs corresponding to your city of birth, country of birth and current city. Add an element to any of the 3 dictionaries which contains your current country."
   ]
  },
  {
   "cell_type": "code",
   "execution_count": null,
   "metadata": {},
   "outputs": [],
   "source": [
    "# method 1\n",
    "my_dict_1 = dict([(\"city_birth\", \"Toronto\"), (\"country_birth\", \"Canada\"), (\"current_city\", \"Chicago\")])\n",
    "print(my_dict_1)"
   ]
  },
  {
   "cell_type": "code",
   "execution_count": null,
   "metadata": {},
   "outputs": [],
   "source": [
    "# method 2\n",
    "my_dict_2 = {\"city_birth\":\"Toronto\", \"country_birth\":\"Canada\", \"current_city\":\"Chicago\"}\n",
    "print(my_dict_2)"
   ]
  },
  {
   "cell_type": "code",
   "execution_count": null,
   "metadata": {},
   "outputs": [],
   "source": [
    "# method 3\n",
    "my_dict_3 = dict(city_birth = \"Toronto\", country_birth = \"Canada\", current_city = \"Chicago\")\n",
    "print(my_dict_3)"
   ]
  },
  {
   "cell_type": "code",
   "execution_count": null,
   "metadata": {},
   "outputs": [],
   "source": [
    "# add an element to dictionary from method 1\n",
    "my_dict_1[\"current_country\"] = \"United States\"\n",
    "print(my_dict_1)"
   ]
  },
  {
   "cell_type": "code",
   "execution_count": null,
   "metadata": {},
   "outputs": [],
   "source": []
  }
 ],
 "metadata": {
  "kernelspec": {
   "display_name": "Python 3",
   "language": "python",
   "name": "python3"
  },
  "language_info": {
   "codemirror_mode": {
    "name": "ipython",
    "version": 3
   },
   "file_extension": ".py",
   "mimetype": "text/x-python",
   "name": "python",
   "nbconvert_exporter": "python",
   "pygments_lexer": "ipython3",
   "version": "3.6.8"
  }
 },
 "nbformat": 4,
 "nbformat_minor": 2
}
