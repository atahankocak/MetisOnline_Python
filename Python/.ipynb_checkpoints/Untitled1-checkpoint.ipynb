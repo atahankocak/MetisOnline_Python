{
 "cells": [
  {
   "cell_type": "markdown",
   "metadata": {},
   "source": [
    "# Beginner Python and Math for Data Science\n",
    "## Lecture 1\n",
    "### Introduction to Programming"
   ]
  },
  {
   "cell_type": "markdown",
   "metadata": {},
   "source": [
    "__Purpose:__\n",
    "The purpose of this lecture is to first discuss what is programming and Python. \n",
    "\n",
    "__At the end of this lecture you will be able to:__\n",
    "1. Understand what programming is"
   ]
  },
  {
   "cell_type": "markdown",
   "metadata": {},
   "source": [
    "__What is programming?__\n",
    "\n",
    "- A program is a set of instructions that allows a computer to perform specific tasks\n",
    "\n",
    "- A computer program is similar to a cookbook recipe\n",
    "    - Both contain a set of instructions that transform raw materials into a finished product\n",
    "    - In a recipe, a cook transforms raw ingredients into a meal\n",
    "    - In a computer program, a computer transforms information into other types of information (e.g. a Google search transforms the input text a user puts on the search box into a sorted list of potential website hits) \n"
   ]
  },
  {
   "cell_type": "markdown",
   "metadata": {},
   "source": [
    "__What is Python?__\n",
    "\n",
    "Python is a general-purpose programming language. Created by Guido van Rossum and first released in **1991**.  Python is open source.\n",
    "\n",
    "\n",
    "Python 2.0, released 2000, introduced features like list comprehensions and a garbage collection system capable of collecting reference cycles. Python 3.0, released 2008, was a major revision of the language that is not completely backward-compatible, and much Python 2 code does not run unmodified on Python 3. Due to concern about the amount of code written for Python 2, support for Python 2.7 (the last release in the 2.x series) was extended to 2020."
   ]
  }
 ],
 "metadata": {
  "kernelspec": {
   "display_name": "Python 3",
   "language": "python",
   "name": "python3"
  },
  "language_info": {
   "codemirror_mode": {
    "name": "ipython",
    "version": 3
   },
   "file_extension": ".py",
   "mimetype": "text/x-python",
   "name": "python",
   "nbconvert_exporter": "python",
   "pygments_lexer": "ipython3",
   "version": "3.7.2"
  }
 },
 "nbformat": 4,
 "nbformat_minor": 2
}
