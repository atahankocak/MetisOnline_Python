{
 "cells": [
  {
   "cell_type": "markdown",
   "metadata": {},
   "source": [
    "# Beginner Python and Math for Data Science\n",
    "## Lecture 19\n",
    "### Debugging"
   ]
  },
  {
   "cell_type": "markdown",
   "metadata": {},
   "source": [
    "__Purpose:__\n",
    "The purpose of this lecture is to understand how the debugger works in Python. \n",
    "\n",
    "__At the end of this lecture you will be able to:__\n",
    "1. Understand how to use the debugger in Jupyter Notebook"
   ]
  },
  {
   "cell_type": "markdown",
   "metadata": {},
   "source": [
    "## 1.1 Debugging:"
   ]
  },
  {
   "cell_type": "markdown",
   "metadata": {},
   "source": [
    "### 1.1.1 What is Debugging? "
   ]
  },
  {
   "cell_type": "markdown",
   "metadata": {},
   "source": [
    "__Overview:__ \n",
    "- Since the beginning of computers and software (and maybe even before), there has been the concept of a __[Software Bug](https://en.wikipedia.org/wiki/Software_bug)__ which refers to some error, flaw or failure in a computer program\n",
    "- The errors (both Syntax Errors and Exceptions) we saw above are examples of Software Bugs \n",
    "- The process of finding and resolving bugs in your program is referred to as __[Debugging](https://en.wikipedia.org/wiki/Debugging)__ which actually was first coined as a result of a moth being stuck in a relay and thereby causing the software to fail \n",
    "- In a simple case, debugging just refers to reviewing each line of your program for errors. In more complex (and frequent) cases, debugging refers to \"stepping\" through a function and/or loop to observe what is happening after each line/iteration to find where the logic breaks \n",
    "\n",
    "__Helpful Points:__\n",
    "1. Debugging can be a very time consuimg process as you often don't know WHERE the error exists in your program or WHY the error exists\n",
    "2. The common pitfall of a beginner programmer is to say \"I am almost finished writing my program, all I have to do now is debug\"\n",
    "3. Depending on the lanugage and/or IDE that you are using to program, there exists different tools for debugging your programs "
   ]
  },
  {
   "cell_type": "markdown",
   "metadata": {},
   "source": [
    "### 1.1.2 Debugging in Jupyter Notebooks:"
   ]
  },
  {
   "cell_type": "markdown",
   "metadata": {},
   "source": [
    "__Overview:__\n",
    "- In Python, the main method of debugging is using the __[`pdb`](https://docs.python.org/3/library/pdb.html)__ Module\n",
    "- The `pdb` Module is an interactive debugging environment for pausing your program, looking at values of variables, and watching program execution step-by-step\n",
    "- The `pdb` Module can be used in Jupyter Notebooks a few different ways:\n",
    "> 1. Importing and using the `pdb` Module (`import pdb`). This is the \"non-Jupyter Notebook\" way which does not require any Magic Commands\n",
    "> 2. Using the __[`%pdb`](http://ipython.readthedocs.io/en/stable/interactive/magics.html#magic-pdb)__ Magic Command. This Magic Command controls the automatic calling of the `pdb` interactive debugger\n",
    "> 3. Using the __[`%debug`](http://ipython.readthedocs.io/en/stable/interactive/magics.html#magic-debug)__ Magic Command. This Magic Command activates the interactive debugger and can be run before or after (\"post-mortem mode\") executing code and operates differently according to when it is activated \n",
    "\n",
    "__Helpful Points:__ \n",
    "1. See [here](https://docs.python.org/3/library/pdb.html#id2) for a complete list of the commands that are accepted by the `pdb`/`ipdb` modules and also while in the interactive debugger that is activated with the Magic Commands \n",
    "2. You can exit the debugger with `exit()`\n",
    "\n",
    "__Practice:__ Examples of Debugging in Jupyter Notebooks"
   ]
  },
  {
   "cell_type": "markdown",
   "metadata": {},
   "source": [
    "### Part 1 (Using `pdb` module):"
   ]
  },
  {
   "cell_type": "code",
   "execution_count": null,
   "metadata": {},
   "outputs": [],
   "source": [
    "# import the pdb module\n",
    "import pdb"
   ]
  },
  {
   "cell_type": "markdown",
   "metadata": {},
   "source": [
    "### Example 1.1 (Post-Mortem Debugging):"
   ]
  },
  {
   "cell_type": "code",
   "execution_count": null,
   "metadata": {},
   "outputs": [],
   "source": [
    "# run a loop that has a known error (our goal is to figure out what is causing the error)\n",
    "zero_list = [1,3,4,0,2]\n",
    "for i in range(len(zero_list)):\n",
    "    print(5/zero_list[i])"
   ]
  },
  {
   "cell_type": "code",
   "execution_count": null,
   "metadata": {
    "scrolled": true
   },
   "outputs": [],
   "source": [
    "# enter post-mortem debugging\n",
    "pdb.pm()"
   ]
  },
  {
   "cell_type": "markdown",
   "metadata": {},
   "source": [
    "By entering the post-mortem debugging, the interactive debugging environment is activated and allows us to view the current state of the variables at the time of the error. "
   ]
  },
  {
   "cell_type": "markdown",
   "metadata": {},
   "source": [
    "### Example 1.2 (Breakpoints):\n",
    "\n",
    "- __[Breakpoint](https://en.wikipedia.org/wiki/Breakpoint):__ A breakpoint is an intentional stopping or pausing place in a program)\n",
    "- Breakpoints are used to for us to run code up until a certain point so that we have the capability of \"stepping-through\" the remainder of the code to see what happens"
   ]
  },
  {
   "cell_type": "code",
   "execution_count": null,
   "metadata": {},
   "outputs": [],
   "source": [
    "zero_list = [1,3,4,0,2]\n",
    "for i in range(len(zero_list)):\n",
    "    # enter a breakpoint here\n",
    "    pdb.set_trace()\n",
    "    print(5/zero_list[i])"
   ]
  },
  {
   "cell_type": "markdown",
   "metadata": {},
   "source": [
    "By setting a breakpoint at the beginning of the loop, we were able to step through the loop starting at that point. This allowed us to perform each iteration live and observe the state of the variable `i` at each iteration by using the `n` command (`next`) - see the list of Debugger Commands. "
   ]
  },
  {
   "cell_type": "markdown",
   "metadata": {},
   "source": [
    "### Example 1.3 (Breakpoints in Function):"
   ]
  },
  {
   "cell_type": "code",
   "execution_count": null,
   "metadata": {},
   "outputs": [],
   "source": [
    "def divide_func(list_arg):\n",
    "    for i in range(len(zero_list)):\n",
    "        # enter a breakpoint here\n",
    "        pdb.set_trace()\n",
    "        print(5/zero_list[i])"
   ]
  },
  {
   "cell_type": "code",
   "execution_count": null,
   "metadata": {},
   "outputs": [],
   "source": [
    "# call the function with the breakpoint\n",
    "zero_list = [1,3,4,0,2]\n",
    "divide_func(zero_list)"
   ]
  },
  {
   "cell_type": "markdown",
   "metadata": {},
   "source": [
    "### Part 2 (Using %pdb):"
   ]
  },
  {
   "cell_type": "markdown",
   "metadata": {},
   "source": [
    "The `%pdb` Magic Commands is used just to control the automatic interactive debugger (i.e. when it is activated or not). You can use it as a toggle for turning on/off the automatic interactive debugger or you can use it with explicit commands for turning on/off the automatic interactive debugger. "
   ]
  },
  {
   "cell_type": "markdown",
   "metadata": {},
   "source": [
    "### Example 2.1 (Toggle Interactive pdb Debugger)):"
   ]
  },
  {
   "cell_type": "code",
   "execution_count": null,
   "metadata": {},
   "outputs": [],
   "source": [
    "# if this command is run without any argument, it toggles the feature of triggering the interactive debugger\n",
    "%pdb"
   ]
  },
  {
   "cell_type": "code",
   "execution_count": null,
   "metadata": {},
   "outputs": [],
   "source": [
    "# now, every time we run a statement that has an error, the interactive debugger will automatically show up\n",
    "zero_list = [1,3,4,0,2]\n",
    "for i in range(len(zero_list)):\n",
    "    print(5/zero_list[i])"
   ]
  },
  {
   "cell_type": "markdown",
   "metadata": {},
   "source": [
    "After executing the previous cell, you are able to see that the same interactive debugger used in Part 1 with `pdb` module was shown again. The textbox here works the same way as it did above and you can enter in any Debugger Command. "
   ]
  },
  {
   "cell_type": "code",
   "execution_count": null,
   "metadata": {},
   "outputs": [],
   "source": [
    "# toggle automatic interactive debugger off \n",
    "%pdb"
   ]
  },
  {
   "cell_type": "markdown",
   "metadata": {},
   "source": [
    "### Example 2.2 (Turn pdb Debugger On/Off Manually):"
   ]
  },
  {
   "cell_type": "code",
   "execution_count": null,
   "metadata": {},
   "outputs": [],
   "source": [
    "# instead of using it as a toggle, we can turn it off and on manually using commands\n",
    "\n",
    "# turn on\n",
    "%pdb 1"
   ]
  },
  {
   "cell_type": "code",
   "execution_count": null,
   "metadata": {},
   "outputs": [],
   "source": [
    "# turn off \n",
    "%pdb 0"
   ]
  },
  {
   "cell_type": "code",
   "execution_count": null,
   "metadata": {},
   "outputs": [],
   "source": [
    "# turn on\n",
    "%pdb on"
   ]
  },
  {
   "cell_type": "code",
   "execution_count": null,
   "metadata": {},
   "outputs": [],
   "source": [
    "# turn off \n",
    "%pdb off"
   ]
  },
  {
   "cell_type": "markdown",
   "metadata": {},
   "source": [
    "### Part 3 (Using `%debug`):"
   ]
  },
  {
   "cell_type": "markdown",
   "metadata": {},
   "source": [
    "### Example 3.1 (Activate Debugger After Code):\n",
    "\n",
    "If an exception has just occurred, this command lets you inspect it interactively. Note that this will always work on the LAST traceback (exception) that occurred, so you should call this quickly after. Otherwise, if another exception occurs, you won't be able to debug the previous exception. \n",
    "\n",
    "- The advantage of the `%debug` command over the `%pdb` command is that it allows you to activate the debugger AFTER an exception has occurred, without having to type `%pdb on` and rerunning the code"
   ]
  },
  {
   "cell_type": "code",
   "execution_count": null,
   "metadata": {
    "scrolled": true
   },
   "outputs": [],
   "source": [
    "# run a loop with a known bug \n",
    "zero_list = [1,3,4,0,2]\n",
    "for i in range(len(zero_list)):\n",
    "    print(5/zero_list[i])"
   ]
  },
  {
   "cell_type": "code",
   "execution_count": null,
   "metadata": {
    "scrolled": true
   },
   "outputs": [],
   "source": [
    "# call the debug Magic Command that will work on the last Traceback (this is the same interactive debugger as above)\n",
    "%debug"
   ]
  },
  {
   "cell_type": "code",
   "execution_count": null,
   "metadata": {},
   "outputs": [],
   "source": []
  }
 ],
 "metadata": {
  "kernelspec": {
   "display_name": "Python 3",
   "language": "python",
   "name": "python3"
  },
  "language_info": {
   "codemirror_mode": {
    "name": "ipython",
    "version": 3
   },
   "file_extension": ".py",
   "mimetype": "text/x-python",
   "name": "python",
   "nbconvert_exporter": "python",
   "pygments_lexer": "ipython3",
   "version": "3.6.8"
  }
 },
 "nbformat": 4,
 "nbformat_minor": 2
}
